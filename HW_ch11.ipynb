{
 "cells": [
  {
   "cell_type": "markdown",
   "metadata": {},
   "source": [
    "# 11.8번 문제 풀이"
   ]
  },
  {
   "cell_type": "code",
   "execution_count": 245,
   "metadata": {},
   "outputs": [],
   "source": [
    "import tensorflow as tf\n",
    "import numpy as np"
   ]
  },
  {
   "cell_type": "code",
   "execution_count": 246,
   "metadata": {},
   "outputs": [],
   "source": [
    "from datetime import datetime\n",
    "now = datetime.utcnow().strftime(\"%Y%m%d%H%M%S\")\n",
    "root_logdir = \"tf_logs_HW11\"\n",
    "logdir = \"{}/run-{}/\".format(root_logdir, now)"
   ]
  },
  {
   "cell_type": "code",
   "execution_count": 247,
   "metadata": {},
   "outputs": [
    {
     "name": "stdout",
     "output_type": "stream",
     "text": [
      "Extracting MNIST/train-images-idx3-ubyte.gz\n",
      "Extracting MNIST/train-labels-idx1-ubyte.gz\n",
      "Extracting MNIST/t10k-images-idx3-ubyte.gz\n",
      "Extracting MNIST/t10k-labels-idx1-ubyte.gz\n"
     ]
    }
   ],
   "source": [
    "import tensorflow.examples.tutorials.mnist.input_data as input_data\n",
    "mnist=input_data.read_data_sets(\"MNIST\")"
   ]
  },
  {
   "cell_type": "code",
   "execution_count": 248,
   "metadata": {},
   "outputs": [
    {
     "name": "stdout",
     "output_type": "stream",
     "text": [
      "3\n"
     ]
    }
   ],
   "source": [
    "reduced_train = mnist.train.labels < 5\n",
    "reduced_valid = mnist.validation.labels < 5\n",
    "#print (reduced_valid)\n",
    "mnist_train_images_reduced = mnist.train.images[reduced_train]\n",
    "mnist_train_labels_reduced = mnist.train.labels[reduced_train]\n",
    "mnist_valid_images_reduced = mnist.validation.images[reduced_valid]\n",
    "mnist_valid_labels_reduced = mnist.validation.labels[reduced_valid]\n",
    "mnist_train_labels_reduced.shape\n",
    "print (mnist_train_labels_reduced[0])"
   ]
  },
  {
   "cell_type": "code",
   "execution_count": 249,
   "metadata": {},
   "outputs": [],
   "source": [
    "n_inputs = 28*28\n",
    "n_hidden1 = 100\n",
    "n_hidden2 = 100\n",
    "n_hidden3 = 100\n",
    "n_hidden4 = 100\n",
    "n_hidden5 = 100\n",
    "n_outputs = 5"
   ]
  },
  {
   "cell_type": "code",
   "execution_count": 250,
   "metadata": {},
   "outputs": [],
   "source": [
    "tf.reset_default_graph()\n",
    "\n",
    "X = tf.placeholder(tf.float32, shape=(None, n_inputs), name = \"X\") # 이미 scaled 되어있는 데이터가 들어갈 예정\n",
    "Y = tf.placeholder(tf.int32, shape=(None), name=\"Y\")"
   ]
  },
  {
   "cell_type": "code",
   "execution_count": 251,
   "metadata": {},
   "outputs": [],
   "source": [
    "# DNN 만들어주는 파트, name_scope로 만들어주는 부분들의 이름들을 하나로 묶음\n",
    "\n",
    "he_init = tf.contrib.layers.variance_scaling_initializer()\n",
    "with tf.name_scope(\"dnn\"):\n",
    "    hidden1 = tf.layers.dense(X, n_hidden1, name=\"hidden1\", activation=tf.nn.elu, kernel_initializer=he_init)\n",
    "    hidden2 = tf.layers.dense(hidden1, n_hidden2, name=\"hidden2\", activation=tf.nn.elu, kernel_initializer=he_init)\n",
    "    hidden3 = tf.layers.dense(hidden2, n_hidden3, name=\"hidden3\", activation=tf.nn.elu, kernel_initializer=he_init)\n",
    "    hidden4 = tf.layers.dense(hidden3, n_hidden4, name=\"hidden4\", activation=tf.nn.elu, kernel_initializer=he_init)\n",
    "    hidden5 = tf.layers.dense(hidden4, n_hidden5, name=\"hidden5\", activation=tf.nn.elu, kernel_initializer=he_init)\n",
    "    logits = tf.layers.dense(hidden5, n_outputs, name=\"outputs\", kernel_initializer=he_init)\n",
    "    logits_out = tf.nn.softmax(logits)"
   ]
  },
  {
   "cell_type": "code",
   "execution_count": 252,
   "metadata": {},
   "outputs": [],
   "source": [
    "# DNN에서 평가를 위한 loss파트 정의\n",
    "with tf.name_scope(\"loss\"):\n",
    "    xentropy = tf.nn.sparse_softmax_cross_entropy_with_logits(labels=Y, logits=logits)\n",
    "    cost = tf.reduce_mean(xentropy, name=\"cost\")"
   ]
  },
  {
   "cell_type": "code",
   "execution_count": 253,
   "metadata": {},
   "outputs": [],
   "source": [
    "# DNN 훈련파트\n",
    "learning_rate = 0.01\n",
    "with tf.name_scope(\"train\"):\n",
    "    #optimizer = tf.train.GradientDescentOptimizer(learning_rate=learning_rate)\n",
    "    #optimizer = tf.train.MomentumOptimizer(learning_rate=learning_rate, momentum=0.9)\n",
    "    optimizer = tf.train.AdamOptimizer(learning_rate=learning_rate)\n",
    "    training_op = optimizer.minimize(cost)"
   ]
  },
  {
   "cell_type": "code",
   "execution_count": 254,
   "metadata": {},
   "outputs": [],
   "source": [
    "## DNN 평가를 위한 파트\n",
    "with tf.name_scope(\"eval\"):\n",
    "    correct = tf.nn.in_top_k(logits, Y, 1) ## \n",
    "    accuracy = tf.reduce_mean(tf.cast(correct, tf.float32)) ## type을 bool에서 float32로 바꿔줌"
   ]
  },
  {
   "cell_type": "code",
   "execution_count": 255,
   "metadata": {},
   "outputs": [],
   "source": [
    "n_epochs = 30\n",
    "batch_size = 1000 ## 최대한 트레이닝 샘플 개수의 약수로 나오게 현재는 28038개"
   ]
  },
  {
   "cell_type": "code",
   "execution_count": 256,
   "metadata": {},
   "outputs": [],
   "source": [
    "init = tf.global_variables_initializer()\n",
    "saver = tf.train.Saver()\n",
    "\n",
    "for op in (X,Y,accuracy,training_op):\n",
    "    tf.add_to_collection(\"my_important_ops\", op)\n",
    "\n",
    "cost_summary = tf.summary.scalar('cost', cost)\n",
    "file_writer = tf.summary.FileWriter(logdir, tf.get_default_graph())\n",
    "\n",
    "n_batches = mnist_train_images_reduced.shape[0] // batch_size"
   ]
  },
  {
   "cell_type": "code",
   "execution_count": 257,
   "metadata": {},
   "outputs": [
    {
     "name": "stdout",
     "output_type": "stream",
     "text": [
      "0 Train accuracy: 0.955045 Validation accuracy: 0.955043\n",
      "1 Train accuracy: 0.96803194 Validation accuracy: 0.97341675\n",
      "2 Train accuracy: 0.97202796 Validation accuracy: 0.97537136\n",
      "3 Train accuracy: 0.985015 Validation accuracy: 0.9824081\n",
      "4 Train accuracy: 0.987013 Validation accuracy: 0.9824081\n",
      "5 Train accuracy: 0.986014 Validation accuracy: 0.9847537\n",
      "6 Train accuracy: 0.988012 Validation accuracy: 0.9851446\n",
      "7 Train accuracy: 0.991009 Validation accuracy: 0.98397183\n",
      "8 Train accuracy: 0.995005 Validation accuracy: 0.9851446\n",
      "9 Train accuracy: 0.996004 Validation accuracy: 0.98670834\n",
      "10 Train accuracy: 0.991009 Validation accuracy: 0.98553556\n",
      "11 Train accuracy: 0.994006 Validation accuracy: 0.9851446\n",
      "12 Train accuracy: 0.998002 Validation accuracy: 0.9870993\n",
      "13 Train accuracy: 0.995005 Validation accuracy: 0.9847537\n",
      "14 Train accuracy: 0.995005 Validation accuracy: 0.9906177\n",
      "15 Train accuracy: 0.997003 Validation accuracy: 0.9878812\n",
      "16 Train accuracy: 0.999001 Validation accuracy: 0.9917905\n",
      "17 Train accuracy: 0.999001 Validation accuracy: 0.98944485\n",
      "18 Train accuracy: 1.0 Validation accuracy: 0.98944485\n",
      "19 Train accuracy: 1.0 Validation accuracy: 0.9882721\n",
      "20 Train accuracy: 0.999001 Validation accuracy: 0.9910086\n",
      "21 Train accuracy: 0.999001 Validation accuracy: 0.9913995\n",
      "22 Train accuracy: 1.0 Validation accuracy: 0.99022675\n",
      "23 Train accuracy: 1.0 Validation accuracy: 0.9913995\n",
      "24 Train accuracy: 1.0 Validation accuracy: 0.9913995\n",
      "25 Train accuracy: 1.0 Validation accuracy: 0.9913995\n",
      "26 Train accuracy: 1.0 Validation accuracy: 0.98944485\n",
      "27 Train accuracy: 1.0 Validation accuracy: 0.99022675\n",
      "28 Train accuracy: 0.999001 Validation accuracy: 0.9910086\n",
      "29 Train accuracy: 1.0 Validation accuracy: 0.9906177\n"
     ]
    }
   ],
   "source": [
    "with tf.Session() as sess:\n",
    "    init.run()\n",
    "    for epoch in range(n_epochs):\n",
    "        #for iteration in range(mnist.train.num_examples // batch_size):\n",
    "        #    X_batch, Y_batch = mnist.train.next_batch(batch_size) ## 기본적으로 제공하는 파트\n",
    "        shuffled_idx = np.random.permutation(mnist_train_images_reduced.shape[0])\n",
    "        X_batches = np.array_split(mnist_train_images_reduced[shuffled_idx], n_batches)\n",
    "        Y_batches = np.array_split(mnist_train_labels_reduced[shuffled_idx], n_batches)\n",
    "        batch_index = 0\n",
    "        for X_batch, Y_batch in zip(X_batches, Y_batches):\n",
    "            sess.run(training_op, feed_dict={X:X_batch, Y:Y_batch})\n",
    "            #print ((len(Y_batch[0])))\n",
    "            batch_index += 1\n",
    "            #print (cost)\n",
    "            loss = cost.eval(feed_dict={X:X_batch, Y:Y_batch}) # iteration 돌릴때 cost=cost.eval(~)f로 하면 중복되어버림 즉 cost가 numpy float으로 선언되어버림\n",
    "            #acc_val = accuracy.eval(feed_dict={X: mnist.validation.images, Y:mnist.validation.labels})\n",
    "            step = epoch * n_batches + batch_index\n",
    "            summary_str = cost_summary.eval(feed_dict={X: X_batch, Y: Y_batch})\n",
    "            file_writer.add_summary(summary_str, step)\n",
    "        acc_train = accuracy.eval(feed_dict={X:X_batch, Y:Y_batch})\n",
    "        acc_val = accuracy.eval(feed_dict={X: mnist_valid_images_reduced, Y:mnist_valid_labels_reduced})\n",
    "        #print (epoch, \"Train accuracy:\", acc_train, \"Cost:\", loss)\n",
    "        print(epoch, \"Train accuracy:\", acc_train, \"Validation accuracy:\", acc_val)\n",
    "    save_path = saver.save(sess, \"./Ch11_HW_final.ckpt\")\n",
    "    file_writer.close()"
   ]
  },
  {
   "cell_type": "markdown",
   "metadata": {},
   "source": [
    "## 배치정규화 사용"
   ]
  },
  {
   "cell_type": "code",
   "execution_count": 445,
   "metadata": {},
   "outputs": [],
   "source": [
    "import tensorflow as tf\n",
    "import numpy as np"
   ]
  },
  {
   "cell_type": "code",
   "execution_count": 446,
   "metadata": {},
   "outputs": [],
   "source": [
    "from datetime import datetime\n",
    "now = datetime.utcnow().strftime(\"%Y%m%d%H%M%S\")\n",
    "root_logdir = \"tf_logs_HW11\"\n",
    "logdir = \"{}/run-{}/\".format(root_logdir, now)"
   ]
  },
  {
   "cell_type": "code",
   "execution_count": 447,
   "metadata": {
    "scrolled": true
   },
   "outputs": [
    {
     "name": "stdout",
     "output_type": "stream",
     "text": [
      "Extracting MNIST/train-images-idx3-ubyte.gz\n",
      "Extracting MNIST/train-labels-idx1-ubyte.gz\n",
      "Extracting MNIST/t10k-images-idx3-ubyte.gz\n",
      "Extracting MNIST/t10k-labels-idx1-ubyte.gz\n"
     ]
    }
   ],
   "source": [
    "import tensorflow.examples.tutorials.mnist.input_data as input_data\n",
    "mnist=input_data.read_data_sets(\"MNIST\")"
   ]
  },
  {
   "cell_type": "code",
   "execution_count": 448,
   "metadata": {},
   "outputs": [
    {
     "name": "stdout",
     "output_type": "stream",
     "text": [
      "3\n"
     ]
    }
   ],
   "source": [
    "reduced_train = mnist.train.labels < 5\n",
    "reduced_valid = mnist.validation.labels < 5\n",
    "#print (reduced_valid)\n",
    "mnist_train_images_reduced = mnist.train.images[reduced_train]\n",
    "mnist_train_labels_reduced = mnist.train.labels[reduced_train]\n",
    "mnist_valid_images_reduced = mnist.validation.images[reduced_valid]\n",
    "mnist_valid_labels_reduced = mnist.validation.labels[reduced_valid]\n",
    "mnist_train_labels_reduced.shape\n",
    "print (mnist_train_labels_reduced[0])"
   ]
  },
  {
   "cell_type": "code",
   "execution_count": 449,
   "metadata": {},
   "outputs": [],
   "source": [
    "n_inputs = 28*28\n",
    "n_hidden1 = 100\n",
    "n_hidden2 = 100\n",
    "n_hidden3 = 100\n",
    "n_hidden4 = 100\n",
    "n_hidden5 = 100\n",
    "n_outputs = 5"
   ]
  },
  {
   "cell_type": "code",
   "execution_count": 450,
   "metadata": {},
   "outputs": [],
   "source": [
    "tf.reset_default_graph()\n",
    "\n",
    "X = tf.placeholder(tf.float32, shape=(None, n_inputs), name = \"X\") # 이미 scaled 되어있는 데이터가 들어갈 예정\n",
    "Y = tf.placeholder(tf.int32, shape=(None), name=\"Y\")\n",
    "training = tf.placeholder_with_default(False, shape=(), name=\"training\")"
   ]
  },
  {
   "cell_type": "code",
   "execution_count": 451,
   "metadata": {},
   "outputs": [],
   "source": [
    "# DNN 만들어주는 파트, name_scope로 만들어주는 부분들의 이름들을 하나로 묶음\n",
    "\n",
    "he_init = tf.contrib.layers.variance_scaling_initializer()\n",
    "with tf.name_scope(\"dnn\"):\n",
    "    hidden1 = tf.layers.dense(X, n_hidden1, name=\"hidden1\")#, activation=tf.nn.elu)#, kernel_initializer=he_init)\n",
    "    bn1 = tf.layers.batch_normalization(hidden1, training=training, momentum=0.9)\n",
    "    bn1_act = tf.nn.elu(bn1)\n",
    "    hidden2 = tf.layers.dense(bn1_act, n_hidden2, name=\"hidden2\")#, activation=tf.nn.elu)#, kernel_initializer=he_init)\n",
    "    bn2 = tf.layers.batch_normalization(hidden2, training=training, momentum=0.9)\n",
    "    bn2_act = tf.nn.elu(bn2)\n",
    "    hidden3 = tf.layers.dense(bn2_act, n_hidden3, name=\"hidden3\")#, activation=tf.nn.elu)#, kernel_initializer=he_init)\n",
    "    bn3 = tf.layers.batch_normalization(hidden3, training=training, momentum=0.9)\n",
    "    bn3_act = tf.nn.elu(bn3)\n",
    "    hidden4 = tf.layers.dense(bn3_act, n_hidden4, name=\"hidden4\")#, activation=tf.nn.elu)#, kernel_initializer=he_init)\n",
    "    bn4 = tf.layers.batch_normalization(hidden4, training=training, momentum=0.9)\n",
    "    bn4_act = tf.nn.elu(bn4)\n",
    "    hidden5 = tf.layers.dense(bn4_act, n_hidden5, name=\"hidden5\")#, activation=tf.nn.elu)#, kernel_initializer=he_init)\n",
    "    bn5 = tf.layers.batch_normalization(hidden5, training=training, momentum=0.9)\n",
    "    bn5_act = tf.nn.elu(bn5)\n",
    "    logits_before_bn = tf.layers.dense(bn5_act, n_outputs, name=\"outputs\")#, kernel_initializer=he_init)\n",
    "    logits = tf.layers.batch_normalization(logits_before_bn, training=training, momentum=0.9)\n",
    "    logits_out = tf.nn.softmax(logits)"
   ]
  },
  {
   "cell_type": "code",
   "execution_count": 452,
   "metadata": {},
   "outputs": [],
   "source": [
    "# DNN에서 평가를 위한 loss파트 정의\n",
    "with tf.name_scope(\"loss\"):\n",
    "    xentropy = tf.nn.sparse_softmax_cross_entropy_with_logits(labels=Y, logits=logits)\n",
    "    cost = tf.reduce_mean(xentropy, name=\"cost\")"
   ]
  },
  {
   "cell_type": "code",
   "execution_count": 453,
   "metadata": {},
   "outputs": [],
   "source": [
    "# DNN 훈련파트\n",
    "learning_rate = 0.01\n",
    "with tf.name_scope(\"train\"):\n",
    "    #optimizer = tf.train.GradientDescentOptimizer(learning_rate=learning_rate)\n",
    "    #optimizer = tf.train.MomentumOptimizer(learning_rate=learning_rate, momentum=0.9)\n",
    "    optimizer = tf.train.AdamOptimizer(learning_rate=learning_rate)\n",
    "    training_op = optimizer.minimize(cost)"
   ]
  },
  {
   "cell_type": "code",
   "execution_count": 454,
   "metadata": {},
   "outputs": [],
   "source": [
    "## DNN 평가를 위한 파트\n",
    "with tf.name_scope(\"eval\"):\n",
    "    correct = tf.nn.in_top_k(logits, Y, 1) ## \n",
    "    accuracy = tf.reduce_mean(tf.cast(correct, tf.float32)) ## type을 bool에서 float32로 바꿔줌"
   ]
  },
  {
   "cell_type": "code",
   "execution_count": 455,
   "metadata": {},
   "outputs": [],
   "source": [
    "n_epochs = 30\n",
    "batch_size = 1000 ## 최대한 트레이닝 샘플 개수의 약수로 나오게 현재는 28038개"
   ]
  },
  {
   "cell_type": "code",
   "execution_count": 71,
   "metadata": {},
   "outputs": [
    {
     "ename": "ValueError",
     "evalue": "At least two variables have the same name: hidden1/bias/Adam",
     "output_type": "error",
     "traceback": [
      "\u001b[0;31m---------------------------------------------------------------------------\u001b[0m",
      "\u001b[0;31mValueError\u001b[0m                                Traceback (most recent call last)",
      "\u001b[0;32m<ipython-input-71-57200c37ad52>\u001b[0m in \u001b[0;36m<module>\u001b[0;34m()\u001b[0m\n\u001b[1;32m      1\u001b[0m \u001b[0minit\u001b[0m \u001b[0;34m=\u001b[0m \u001b[0mtf\u001b[0m\u001b[0;34m.\u001b[0m\u001b[0mglobal_variables_initializer\u001b[0m\u001b[0;34m(\u001b[0m\u001b[0;34m)\u001b[0m\u001b[0;34m\u001b[0m\u001b[0m\n\u001b[0;32m----> 2\u001b[0;31m \u001b[0msaver\u001b[0m \u001b[0;34m=\u001b[0m \u001b[0mtf\u001b[0m\u001b[0;34m.\u001b[0m\u001b[0mtrain\u001b[0m\u001b[0;34m.\u001b[0m\u001b[0mSaver\u001b[0m\u001b[0;34m(\u001b[0m\u001b[0;34m)\u001b[0m\u001b[0;34m\u001b[0m\u001b[0m\n\u001b[0m\u001b[1;32m      3\u001b[0m \u001b[0;34m\u001b[0m\u001b[0m\n\u001b[1;32m      4\u001b[0m \u001b[0;32mfor\u001b[0m \u001b[0mop\u001b[0m \u001b[0;32min\u001b[0m \u001b[0;34m(\u001b[0m\u001b[0mX\u001b[0m\u001b[0;34m,\u001b[0m\u001b[0mY\u001b[0m\u001b[0;34m,\u001b[0m\u001b[0maccuracy\u001b[0m\u001b[0;34m,\u001b[0m\u001b[0mtraining_op\u001b[0m\u001b[0;34m)\u001b[0m\u001b[0;34m:\u001b[0m\u001b[0;34m\u001b[0m\u001b[0m\n\u001b[1;32m      5\u001b[0m     \u001b[0mtf\u001b[0m\u001b[0;34m.\u001b[0m\u001b[0madd_to_collection\u001b[0m\u001b[0;34m(\u001b[0m\u001b[0;34m\"my_important_ops\"\u001b[0m\u001b[0;34m,\u001b[0m \u001b[0mop\u001b[0m\u001b[0;34m)\u001b[0m\u001b[0;34m\u001b[0m\u001b[0m\n",
      "\u001b[0;32m~/anaconda3/lib/python3.6/site-packages/tensorflow/python/training/saver.py\u001b[0m in \u001b[0;36m__init__\u001b[0;34m(self, var_list, reshape, sharded, max_to_keep, keep_checkpoint_every_n_hours, name, restore_sequentially, saver_def, builder, defer_build, allow_empty, write_version, pad_step_number, save_relative_paths, filename)\u001b[0m\n\u001b[1;32m   1279\u001b[0m           time.time() + self._keep_checkpoint_every_n_hours * 3600)\n\u001b[1;32m   1280\u001b[0m     \u001b[0;32melif\u001b[0m \u001b[0;32mnot\u001b[0m \u001b[0mdefer_build\u001b[0m\u001b[0;34m:\u001b[0m\u001b[0;34m\u001b[0m\u001b[0m\n\u001b[0;32m-> 1281\u001b[0;31m       \u001b[0mself\u001b[0m\u001b[0;34m.\u001b[0m\u001b[0mbuild\u001b[0m\u001b[0;34m(\u001b[0m\u001b[0;34m)\u001b[0m\u001b[0;34m\u001b[0m\u001b[0m\n\u001b[0m\u001b[1;32m   1282\u001b[0m     \u001b[0;32mif\u001b[0m \u001b[0mself\u001b[0m\u001b[0;34m.\u001b[0m\u001b[0msaver_def\u001b[0m\u001b[0;34m:\u001b[0m\u001b[0;34m\u001b[0m\u001b[0m\n\u001b[1;32m   1283\u001b[0m       \u001b[0mself\u001b[0m\u001b[0;34m.\u001b[0m\u001b[0m_check_saver_def\u001b[0m\u001b[0;34m(\u001b[0m\u001b[0;34m)\u001b[0m\u001b[0;34m\u001b[0m\u001b[0m\n",
      "\u001b[0;32m~/anaconda3/lib/python3.6/site-packages/tensorflow/python/training/saver.py\u001b[0m in \u001b[0;36mbuild\u001b[0;34m(self)\u001b[0m\n\u001b[1;32m   1291\u001b[0m     \u001b[0;32mif\u001b[0m \u001b[0mcontext\u001b[0m\u001b[0;34m.\u001b[0m\u001b[0mexecuting_eagerly\u001b[0m\u001b[0;34m(\u001b[0m\u001b[0;34m)\u001b[0m\u001b[0;34m:\u001b[0m\u001b[0;34m\u001b[0m\u001b[0m\n\u001b[1;32m   1292\u001b[0m       \u001b[0;32mraise\u001b[0m \u001b[0mRuntimeError\u001b[0m\u001b[0;34m(\u001b[0m\u001b[0;34m\"Use save/restore instead of build in eager mode.\"\u001b[0m\u001b[0;34m)\u001b[0m\u001b[0;34m\u001b[0m\u001b[0m\n\u001b[0;32m-> 1293\u001b[0;31m     \u001b[0mself\u001b[0m\u001b[0;34m.\u001b[0m\u001b[0m_build\u001b[0m\u001b[0;34m(\u001b[0m\u001b[0mself\u001b[0m\u001b[0;34m.\u001b[0m\u001b[0m_filename\u001b[0m\u001b[0;34m,\u001b[0m \u001b[0mbuild_save\u001b[0m\u001b[0;34m=\u001b[0m\u001b[0;32mTrue\u001b[0m\u001b[0;34m,\u001b[0m \u001b[0mbuild_restore\u001b[0m\u001b[0;34m=\u001b[0m\u001b[0;32mTrue\u001b[0m\u001b[0;34m)\u001b[0m\u001b[0;34m\u001b[0m\u001b[0m\n\u001b[0m\u001b[1;32m   1294\u001b[0m \u001b[0;34m\u001b[0m\u001b[0m\n\u001b[1;32m   1295\u001b[0m   \u001b[0;32mdef\u001b[0m \u001b[0m_build_eager\u001b[0m\u001b[0;34m(\u001b[0m\u001b[0mself\u001b[0m\u001b[0;34m,\u001b[0m \u001b[0mcheckpoint_path\u001b[0m\u001b[0;34m,\u001b[0m \u001b[0mbuild_save\u001b[0m\u001b[0;34m,\u001b[0m \u001b[0mbuild_restore\u001b[0m\u001b[0;34m)\u001b[0m\u001b[0;34m:\u001b[0m\u001b[0;34m\u001b[0m\u001b[0m\n",
      "\u001b[0;32m~/anaconda3/lib/python3.6/site-packages/tensorflow/python/training/saver.py\u001b[0m in \u001b[0;36m_build\u001b[0;34m(self, checkpoint_path, build_save, build_restore)\u001b[0m\n\u001b[1;32m   1328\u001b[0m           \u001b[0mrestore_sequentially\u001b[0m\u001b[0;34m=\u001b[0m\u001b[0mself\u001b[0m\u001b[0;34m.\u001b[0m\u001b[0m_restore_sequentially\u001b[0m\u001b[0;34m,\u001b[0m\u001b[0;34m\u001b[0m\u001b[0m\n\u001b[1;32m   1329\u001b[0m           \u001b[0mfilename\u001b[0m\u001b[0;34m=\u001b[0m\u001b[0mcheckpoint_path\u001b[0m\u001b[0;34m,\u001b[0m\u001b[0;34m\u001b[0m\u001b[0m\n\u001b[0;32m-> 1330\u001b[0;31m           build_save=build_save, build_restore=build_restore)\n\u001b[0m\u001b[1;32m   1331\u001b[0m     \u001b[0;32melif\u001b[0m \u001b[0mself\u001b[0m\u001b[0;34m.\u001b[0m\u001b[0msaver_def\u001b[0m \u001b[0;32mand\u001b[0m \u001b[0mself\u001b[0m\u001b[0;34m.\u001b[0m\u001b[0m_name\u001b[0m\u001b[0;34m:\u001b[0m\u001b[0;34m\u001b[0m\u001b[0m\n\u001b[1;32m   1332\u001b[0m       \u001b[0;31m# Since self._name is used as a name_scope by builder(), we are\u001b[0m\u001b[0;34m\u001b[0m\u001b[0;34m\u001b[0m\u001b[0m\n",
      "\u001b[0;32m~/anaconda3/lib/python3.6/site-packages/tensorflow/python/training/saver.py\u001b[0m in \u001b[0;36m_build_internal\u001b[0;34m(self, names_to_saveables, reshape, sharded, max_to_keep, keep_checkpoint_every_n_hours, name, restore_sequentially, filename, build_save, build_restore)\u001b[0m\n\u001b[1;32m    754\u001b[0m                        \" when eager execution is not enabled.\")\n\u001b[1;32m    755\u001b[0m \u001b[0;34m\u001b[0m\u001b[0m\n\u001b[0;32m--> 756\u001b[0;31m     \u001b[0msaveables\u001b[0m \u001b[0;34m=\u001b[0m \u001b[0mself\u001b[0m\u001b[0;34m.\u001b[0m\u001b[0m_ValidateAndSliceInputs\u001b[0m\u001b[0;34m(\u001b[0m\u001b[0mnames_to_saveables\u001b[0m\u001b[0;34m)\u001b[0m\u001b[0;34m\u001b[0m\u001b[0m\n\u001b[0m\u001b[1;32m    757\u001b[0m     \u001b[0;32mif\u001b[0m \u001b[0mmax_to_keep\u001b[0m \u001b[0;32mis\u001b[0m \u001b[0;32mNone\u001b[0m\u001b[0;34m:\u001b[0m\u001b[0;34m\u001b[0m\u001b[0m\n\u001b[1;32m    758\u001b[0m       \u001b[0mmax_to_keep\u001b[0m \u001b[0;34m=\u001b[0m \u001b[0;36m0\u001b[0m\u001b[0;34m\u001b[0m\u001b[0m\n",
      "\u001b[0;32m~/anaconda3/lib/python3.6/site-packages/tensorflow/python/training/saver.py\u001b[0m in \u001b[0;36m_ValidateAndSliceInputs\u001b[0;34m(self, names_to_saveables)\u001b[0m\n\u001b[1;32m    654\u001b[0m     \"\"\"\n\u001b[1;32m    655\u001b[0m     \u001b[0;32mif\u001b[0m \u001b[0;32mnot\u001b[0m \u001b[0misinstance\u001b[0m\u001b[0;34m(\u001b[0m\u001b[0mnames_to_saveables\u001b[0m\u001b[0;34m,\u001b[0m \u001b[0mdict\u001b[0m\u001b[0;34m)\u001b[0m\u001b[0;34m:\u001b[0m\u001b[0;34m\u001b[0m\u001b[0m\n\u001b[0;32m--> 656\u001b[0;31m       \u001b[0mnames_to_saveables\u001b[0m \u001b[0;34m=\u001b[0m \u001b[0mBaseSaverBuilder\u001b[0m\u001b[0;34m.\u001b[0m\u001b[0mOpListToDict\u001b[0m\u001b[0;34m(\u001b[0m\u001b[0mnames_to_saveables\u001b[0m\u001b[0;34m)\u001b[0m\u001b[0;34m\u001b[0m\u001b[0m\n\u001b[0m\u001b[1;32m    657\u001b[0m \u001b[0;34m\u001b[0m\u001b[0m\n\u001b[1;32m    658\u001b[0m     \u001b[0msaveables\u001b[0m \u001b[0;34m=\u001b[0m \u001b[0;34m[\u001b[0m\u001b[0;34m]\u001b[0m\u001b[0;34m\u001b[0m\u001b[0m\n",
      "\u001b[0;32m~/anaconda3/lib/python3.6/site-packages/tensorflow/python/training/saver.py\u001b[0m in \u001b[0;36mOpListToDict\u001b[0;34m(op_list, convert_variable_to_tensor)\u001b[0m\n\u001b[1;32m    561\u001b[0m           \u001b[0;32mif\u001b[0m \u001b[0mname\u001b[0m \u001b[0;32min\u001b[0m \u001b[0mnames_to_saveables\u001b[0m\u001b[0;34m:\u001b[0m\u001b[0;34m\u001b[0m\u001b[0m\n\u001b[1;32m    562\u001b[0m             raise ValueError(\"At least two variables have the same name: %s\" %\n\u001b[0;32m--> 563\u001b[0;31m                              name)\n\u001b[0m\u001b[1;32m    564\u001b[0m           \u001b[0mnames_to_saveables\u001b[0m\u001b[0;34m[\u001b[0m\u001b[0mname\u001b[0m\u001b[0;34m]\u001b[0m \u001b[0;34m=\u001b[0m \u001b[0mvar\u001b[0m\u001b[0;34m\u001b[0m\u001b[0m\n\u001b[1;32m    565\u001b[0m \u001b[0;34m\u001b[0m\u001b[0m\n",
      "\u001b[0;31mValueError\u001b[0m: At least two variables have the same name: hidden1/bias/Adam"
     ]
    }
   ],
   "source": [
    "init = tf.global_variables_initializer()\n",
    "saver = tf.train.Saver()\n",
    "\n",
    "for op in (X,Y,accuracy,training_op):\n",
    "    tf.add_to_collection(\"my_important_ops\", op)\n",
    "    \n",
    "\n",
    "cost_summary = tf.summary.scalar('cost', cost)\n",
    "file_writer = tf.summary.FileWriter(logdir, tf.get_default_graph())\n",
    "\n",
    "n_batches = mnist_train_images_reduced.shape[0] // batch_size"
   ]
  },
  {
   "cell_type": "code",
   "execution_count": 457,
   "metadata": {},
   "outputs": [
    {
     "name": "stdout",
     "output_type": "stream",
     "text": [
      "0 Train accuracy: 0.95804197 Validation accuracy: 0.96129787\n",
      "1 Train accuracy: 0.985015 Validation accuracy: 0.9741986\n",
      "2 Train accuracy: 0.976024 Validation accuracy: 0.97263485\n",
      "3 Train accuracy: 0.971029 Validation accuracy: 0.98279905\n",
      "4 Train accuracy: 0.984016 Validation accuracy: 0.98631746\n",
      "5 Train accuracy: 0.992008 Validation accuracy: 0.988663\n",
      "6 Train accuracy: 0.993007 Validation accuracy: 0.988663\n",
      "7 Train accuracy: 0.995005 Validation accuracy: 0.9878812\n",
      "8 Train accuracy: 0.993007 Validation accuracy: 0.988663\n",
      "9 Train accuracy: 0.994006 Validation accuracy: 0.9878812\n",
      "10 Train accuracy: 0.997003 Validation accuracy: 0.98944485\n",
      "11 Train accuracy: 0.997003 Validation accuracy: 0.98905396\n",
      "12 Train accuracy: 0.996004 Validation accuracy: 0.99022675\n",
      "13 Train accuracy: 0.997003 Validation accuracy: 0.9906177\n",
      "14 Train accuracy: 1.0 Validation accuracy: 0.9913995\n",
      "15 Train accuracy: 0.997003 Validation accuracy: 0.98905396\n",
      "16 Train accuracy: 1.0 Validation accuracy: 0.9913995\n",
      "17 Train accuracy: 0.998002 Validation accuracy: 0.98631746\n",
      "18 Train accuracy: 0.997003 Validation accuracy: 0.98905396\n",
      "19 Train accuracy: 0.996004 Validation accuracy: 0.9878812\n",
      "20 Train accuracy: 0.998002 Validation accuracy: 0.9898358\n",
      "21 Train accuracy: 1.0 Validation accuracy: 0.9913995\n",
      "22 Train accuracy: 1.0 Validation accuracy: 0.9921814\n",
      "23 Train accuracy: 1.0 Validation accuracy: 0.9906177\n",
      "24 Train accuracy: 1.0 Validation accuracy: 0.9921814\n",
      "25 Train accuracy: 1.0 Validation accuracy: 0.9913995\n",
      "26 Train accuracy: 1.0 Validation accuracy: 0.9925723\n",
      "27 Train accuracy: 0.999001 Validation accuracy: 0.9913995\n",
      "28 Train accuracy: 1.0 Validation accuracy: 0.9906177\n",
      "29 Train accuracy: 1.0 Validation accuracy: 0.9933542\n"
     ]
    }
   ],
   "source": [
    "extra_update_ops = tf.get_collection(tf.GraphKeys.UPDATE_OPS)\n",
    "\n",
    "with tf.Session() as sess:\n",
    "    init.run()\n",
    "    for epoch in range(n_epochs):\n",
    "        shuffled_idx = np.random.permutation(mnist_train_images_reduced.shape[0])\n",
    "        X_batches = np.array_split(mnist_train_images_reduced[shuffled_idx], n_batches)\n",
    "        Y_batches = np.array_split(mnist_train_labels_reduced[shuffled_idx], n_batches)\n",
    "        batch_index = 0\n",
    "        for X_batch, Y_batch in zip(X_batches, Y_batches):\n",
    "            sess.run([training_op, extra_update_ops], feed_dict={X:X_batch, Y:Y_batch})\n",
    "            #print ((len(Y_batch[0])))\n",
    "            batch_index += 1\n",
    "            #print (cost)\n",
    "            loss = cost.eval(feed_dict={X:X_batch, Y:Y_batch}) # iteration 돌릴때 cost=cost.eval(~)f로 하면 중복되어버림 즉 cost가 numpy float으로 선언되어버림\n",
    "            #acc_val = accuracy.eval(feed_dict={X: mnist.validation.images, Y:mnist.validation.labels})\n",
    "            step = epoch * n_batches + batch_index\n",
    "            summary_str = cost_summary.eval(feed_dict={training: True, X: X_batch, Y: Y_batch})\n",
    "            file_writer.add_summary(summary_str, step)\n",
    "        acc_train = accuracy.eval(feed_dict={X:X_batch, Y:Y_batch})\n",
    "        acc_val = accuracy.eval(feed_dict={X: mnist_valid_images_reduced, Y:mnist_valid_labels_reduced})\n",
    "        #print (epoch, \"Train accuracy:\", acc_train, \"Cost:\", loss)\n",
    "        print(epoch, \"Train accuracy:\", acc_train, \"Validation accuracy:\", acc_val)\n",
    "    save_path = saver.save(sess, \"./Ch10_DNN_test_final.ckpt\")\n",
    "    file_writer.close()"
   ]
  },
  {
   "cell_type": "markdown",
   "metadata": {},
   "source": [
    " ## 드롭아웃 규제 사용해보기"
   ]
  },
  {
   "cell_type": "code",
   "execution_count": 4,
   "metadata": {},
   "outputs": [],
   "source": [
    "from datetime import datetime\n",
    "now = datetime.utcnow().strftime(\"%Y%m%d%H%M%S\")\n",
    "root_logdir = \"tf_logs_HW11\"\n",
    "logdir = \"{}/run-{}/\".format(root_logdir, now)"
   ]
  },
  {
   "cell_type": "code",
   "execution_count": 5,
   "metadata": {},
   "outputs": [
    {
     "name": "stdout",
     "output_type": "stream",
     "text": [
      "WARNING:tensorflow:From <ipython-input-5-5be837b07e9d>:2: read_data_sets (from tensorflow.contrib.learn.python.learn.datasets.mnist) is deprecated and will be removed in a future version.\n",
      "Instructions for updating:\n",
      "Please use alternatives such as official/mnist/dataset.py from tensorflow/models.\n",
      "WARNING:tensorflow:From /Users/woohyunhan/anaconda3/lib/python3.6/site-packages/tensorflow/contrib/learn/python/learn/datasets/mnist.py:260: maybe_download (from tensorflow.contrib.learn.python.learn.datasets.base) is deprecated and will be removed in a future version.\n",
      "Instructions for updating:\n",
      "Please write your own downloading logic.\n",
      "WARNING:tensorflow:From /Users/woohyunhan/anaconda3/lib/python3.6/site-packages/tensorflow/contrib/learn/python/learn/datasets/mnist.py:262: extract_images (from tensorflow.contrib.learn.python.learn.datasets.mnist) is deprecated and will be removed in a future version.\n",
      "Instructions for updating:\n",
      "Please use tf.data to implement this functionality.\n",
      "Extracting MNIST/train-images-idx3-ubyte.gz\n",
      "WARNING:tensorflow:From /Users/woohyunhan/anaconda3/lib/python3.6/site-packages/tensorflow/contrib/learn/python/learn/datasets/mnist.py:267: extract_labels (from tensorflow.contrib.learn.python.learn.datasets.mnist) is deprecated and will be removed in a future version.\n",
      "Instructions for updating:\n",
      "Please use tf.data to implement this functionality.\n",
      "Extracting MNIST/train-labels-idx1-ubyte.gz\n",
      "Extracting MNIST/t10k-images-idx3-ubyte.gz\n",
      "Extracting MNIST/t10k-labels-idx1-ubyte.gz\n",
      "WARNING:tensorflow:From /Users/woohyunhan/anaconda3/lib/python3.6/site-packages/tensorflow/contrib/learn/python/learn/datasets/mnist.py:290: DataSet.__init__ (from tensorflow.contrib.learn.python.learn.datasets.mnist) is deprecated and will be removed in a future version.\n",
      "Instructions for updating:\n",
      "Please use alternatives such as official/mnist/dataset.py from tensorflow/models.\n"
     ]
    }
   ],
   "source": [
    "import tensorflow.examples.tutorials.mnist.input_data as input_data\n",
    "mnist=input_data.read_data_sets(\"MNIST\")"
   ]
  },
  {
   "cell_type": "code",
   "execution_count": 6,
   "metadata": {},
   "outputs": [
    {
     "name": "stdout",
     "output_type": "stream",
     "text": [
      "3\n"
     ]
    }
   ],
   "source": [
    "reduced_train = mnist.train.labels < 5\n",
    "reduced_valid = mnist.validation.labels < 5\n",
    "#print (reduced_valid)\n",
    "mnist_train_images_reduced = mnist.train.images[reduced_train]\n",
    "mnist_train_labels_reduced = mnist.train.labels[reduced_train]\n",
    "mnist_valid_images_reduced = mnist.validation.images[reduced_valid]\n",
    "mnist_valid_labels_reduced = mnist.validation.labels[reduced_valid]\n",
    "mnist_train_labels_reduced.shape\n",
    "print (mnist_train_labels_reduced[0])"
   ]
  },
  {
   "cell_type": "code",
   "execution_count": 7,
   "metadata": {},
   "outputs": [],
   "source": [
    "n_inputs = 28*28\n",
    "n_hidden1 = 100\n",
    "n_hidden2 = 100\n",
    "n_hidden3 = 100\n",
    "n_hidden4 = 100\n",
    "n_hidden5 = 100\n",
    "n_outputs = 5"
   ]
  },
  {
   "cell_type": "code",
   "execution_count": 9,
   "metadata": {},
   "outputs": [],
   "source": [
    "tf.reset_default_graph()\n",
    "\n",
    "X = tf.placeholder(tf.float32, shape=(None, n_inputs), name = \"X\") # 이미 scaled 되어있는 데이터가 들어갈 예정\n",
    "Y = tf.placeholder(tf.int32, shape=(None), name=\"Y\")\n",
    "training = tf.placeholder_with_default(False, shape=(), name=\"training\")"
   ]
  },
  {
   "cell_type": "code",
   "execution_count": 10,
   "metadata": {},
   "outputs": [],
   "source": [
    "# DNN 만들어주는 파트, name_scope로 만들어주는 부분들의 이름들을 하나로 묶음\n",
    "\n",
    "he_init = tf.contrib.layers.variance_scaling_initializer()\n",
    "\n",
    "dropout_rate = 0.5\n",
    "X_drop = tf.layers.dropout(X, dropout_rate, training=training)\n",
    "\n",
    "with tf.name_scope(\"dnn\"):\n",
    "    hidden1 = tf.layers.dense(X_drop, n_hidden1, name=\"hidden1\", activation=tf.nn.elu)#, kernel_initializer=he_init)\n",
    "    hidden1_drop = tf.layers.dropout(hidden1, dropout_rate, training=training)\n",
    "    hidden2 = tf.layers.dense(hidden1_drop, n_hidden2, name=\"hidden2\", activation=tf.nn.elu)#, kernel_initializer=he_init)\n",
    "    hidden2_drop = tf.layers.dropout(hidden2, dropout_rate, training=training)\n",
    "    hidden3 = tf.layers.dense(hidden2_drop, n_hidden3, name=\"hidden3\", activation=tf.nn.elu)#, kernel_initializer=he_init)\n",
    "    hidden3_drop = tf.layers.dropout(hidden3, dropout_rate, training=training)\n",
    "    hidden4 = tf.layers.dense(hidden3_drop, n_hidden4, name=\"hidden4\", activation=tf.nn.elu)#, kernel_initializer=he_init)\n",
    "    hidden4_drop = tf.layers.dropout(hidden4, dropout_rate, training=training)\n",
    "    hidden5 = tf.layers.dense(hidden4_drop, n_hidden5, name=\"hidden5\", activation=tf.nn.elu)#, kernel_initializer=he_init)\n",
    "    hidden5_drop = tf.layers.dropout(hidden5, dropout_rate, training=training)\n",
    "    logits = tf.layers.dense(hidden5_drop, n_outputs, name=\"outputs\")\n",
    "    logits_out = tf.nn.softmax(logits)"
   ]
  },
  {
   "cell_type": "code",
   "execution_count": 11,
   "metadata": {},
   "outputs": [],
   "source": [
    "# DNN에서 평가를 위한 loss파트 정의\n",
    "with tf.name_scope(\"loss\"):\n",
    "    xentropy = tf.nn.sparse_softmax_cross_entropy_with_logits(labels=Y, logits=logits)\n",
    "    cost = tf.reduce_mean(xentropy, name=\"cost\")"
   ]
  },
  {
   "cell_type": "code",
   "execution_count": 12,
   "metadata": {},
   "outputs": [],
   "source": [
    "# DNN 훈련파트\n",
    "learning_rate = 0.01\n",
    "with tf.name_scope(\"train\"):\n",
    "    #optimizer = tf.train.GradientDescentOptimizer(learning_rate=learning_rate)\n",
    "    #optimizer = tf.train.MomentumOptimizer(learning_rate=learning_rate, momentum=0.9)\n",
    "    optimizer = tf.train.AdamOptimizer(learning_rate=learning_rate)\n",
    "    training_op = optimizer.minimize(cost)"
   ]
  },
  {
   "cell_type": "code",
   "execution_count": 13,
   "metadata": {},
   "outputs": [],
   "source": [
    "## DNN 평가를 위한 파트\n",
    "with tf.name_scope(\"eval\"):\n",
    "    correct = tf.nn.in_top_k(logits, Y, 1) ## \n",
    "    accuracy = tf.reduce_mean(tf.cast(correct, tf.float32)) ## type을 bool에서 float32로 바꿔줌"
   ]
  },
  {
   "cell_type": "code",
   "execution_count": 14,
   "metadata": {},
   "outputs": [],
   "source": [
    "n_epochs = 30\n",
    "batch_size = 1000 ## 최대한 트레이닝 샘플 개수의 약수로 나오게 현재는 28038개"
   ]
  },
  {
   "cell_type": "code",
   "execution_count": 15,
   "metadata": {},
   "outputs": [],
   "source": [
    "init = tf.global_variables_initializer()\n",
    "saver = tf.train.Saver()\n",
    "\n",
    "cost_summary = tf.summary.scalar('cost', cost)\n",
    "file_writer = tf.summary.FileWriter(logdir, tf.get_default_graph())\n",
    "\n",
    "n_batches = mnist_train_images_reduced.shape[0] // batch_size"
   ]
  },
  {
   "cell_type": "code",
   "execution_count": 16,
   "metadata": {},
   "outputs": [
    {
     "name": "stdout",
     "output_type": "stream",
     "text": [
      "0 Train accuracy: 0.96303695 Validation accuracy: 0.9589523\n",
      "1 Train accuracy: 0.969031 Validation accuracy: 0.96598905\n",
      "2 Train accuracy: 0.96803194 Validation accuracy: 0.97224396\n",
      "3 Train accuracy: 0.971029 Validation accuracy: 0.9741986\n",
      "4 Train accuracy: 0.97202796 Validation accuracy: 0.9741986\n",
      "5 Train accuracy: 0.98002 Validation accuracy: 0.9757623\n",
      "6 Train accuracy: 0.976024 Validation accuracy: 0.97810787\n",
      "7 Train accuracy: 0.97902095 Validation accuracy: 0.98279905\n",
      "8 Train accuracy: 0.977023 Validation accuracy: 0.9859265\n",
      "9 Train accuracy: 0.989011 Validation accuracy: 0.98553556\n",
      "10 Train accuracy: 0.98301697 Validation accuracy: 0.9847537\n",
      "11 Train accuracy: 0.986014 Validation accuracy: 0.9824081\n",
      "12 Train accuracy: 0.988012 Validation accuracy: 0.98319\n",
      "13 Train accuracy: 0.988012 Validation accuracy: 0.98670834\n",
      "14 Train accuracy: 0.988012 Validation accuracy: 0.9851446\n",
      "15 Train accuracy: 0.985015 Validation accuracy: 0.98749024\n",
      "16 Train accuracy: 0.99000996 Validation accuracy: 0.98553556\n",
      "17 Train accuracy: 0.984016 Validation accuracy: 0.988663\n",
      "18 Train accuracy: 0.984016 Validation accuracy: 0.98631746\n",
      "19 Train accuracy: 0.986014 Validation accuracy: 0.98670834\n",
      "20 Train accuracy: 0.986014 Validation accuracy: 0.9878812\n",
      "21 Train accuracy: 0.984016 Validation accuracy: 0.9870993\n",
      "22 Train accuracy: 0.989011 Validation accuracy: 0.98319\n",
      "23 Train accuracy: 0.986014 Validation accuracy: 0.9851446\n",
      "24 Train accuracy: 0.986014 Validation accuracy: 0.98631746\n",
      "25 Train accuracy: 0.987013 Validation accuracy: 0.98358095\n",
      "26 Train accuracy: 0.989011 Validation accuracy: 0.98631746\n",
      "27 Train accuracy: 0.988012 Validation accuracy: 0.98670834\n",
      "28 Train accuracy: 0.99000996 Validation accuracy: 0.98397183\n",
      "29 Train accuracy: 0.991009 Validation accuracy: 0.98553556\n"
     ]
    }
   ],
   "source": [
    "with tf.Session() as sess:\n",
    "    init.run()\n",
    "    for epoch in range(n_epochs):\n",
    "        shuffled_idx = np.random.permutation(mnist_train_images_reduced.shape[0])\n",
    "        X_batches = np.array_split(mnist_train_images_reduced[shuffled_idx], n_batches)\n",
    "        Y_batches = np.array_split(mnist_train_labels_reduced[shuffled_idx], n_batches)\n",
    "        batch_index = 0\n",
    "        for X_batch, Y_batch in zip(X_batches, Y_batches):\n",
    "            sess.run(training_op, feed_dict={training: True, X:X_batch, Y:Y_batch})\n",
    "            #print ((len(Y_batch[0])))\n",
    "            batch_index += 1\n",
    "            #print (cost)\n",
    "            loss = cost.eval(feed_dict={X:X_batch, Y:Y_batch}) # iteration 돌릴때 cost=cost.eval(~)f로 하면 중복되어버림 즉 cost가 numpy float으로 선언되어버림\n",
    "            #acc_val = accuracy.eval(feed_dict={X: mnist.validation.images, Y:mnist.validation.labels})\n",
    "            step = epoch * n_batches + batch_index\n",
    "            summary_str = cost_summary.eval(feed_dict={ X: X_batch, Y: Y_batch})\n",
    "            file_writer.add_summary(summary_str, step)\n",
    "        acc_train = accuracy.eval(feed_dict={X:X_batch, Y:Y_batch})\n",
    "        acc_val = accuracy.eval(feed_dict={X: mnist_valid_images_reduced, Y:mnist_valid_labels_reduced})\n",
    "        #print (epoch, \"Train accuracy:\", acc_train, \"Cost:\", loss)\n",
    "        print(epoch, \"Train accuracy:\", acc_train, \"Validation accuracy:\", acc_val)\n",
    "    save_path = saver.save(sess, \"./Ch11_HW_final.ckpt\")\n",
    "    file_writer.close()"
   ]
  },
  {
   "cell_type": "markdown",
   "metadata": {},
   "source": [
    " # 11.9 번 문제 풀이"
   ]
  },
  {
   "cell_type": "markdown",
   "metadata": {},
   "source": [
    "## 단순재사용"
   ]
  },
  {
   "cell_type": "code",
   "execution_count": 348,
   "metadata": {},
   "outputs": [],
   "source": [
    "tf.reset_default_graph()\n",
    "#saver_meta = tf.train.import_meta_graph(\"./Ch11_HW_final.ckpt.meta\")"
   ]
  },
  {
   "cell_type": "markdown",
   "metadata": {},
   "source": [
    "### 중요: 계속 불러들여올때 마다 중복되어버림 즉 reset을 해주지 않으면 계속하여 쌓여버림"
   ]
  },
  {
   "cell_type": "code",
   "execution_count": 349,
   "metadata": {},
   "outputs": [],
   "source": [
    "for op in tf.get_default_graph().get_operations():\n",
    "    print (op.name)\n",
    "#for var in tf.get_default_graph().get_tensor_by_name():\n",
    "#    print (var)"
   ]
  },
  {
   "cell_type": "code",
   "execution_count": 350,
   "metadata": {},
   "outputs": [],
   "source": [
    "#X = tf.get_default_graph().get_tensor_by_name(\"X:0\")\n",
    "#Y = tf.get_default_graph().get_tensor_by_name(\"Y:0\")\n",
    "#accuracy = tf.get_default_graph().get_tensor_by_name(\"eval/Mean:0\")\n",
    "#training_op = tf.get_default_graph().get_operation_by_name(\"train/Adam\")"
   ]
  },
  {
   "cell_type": "code",
   "execution_count": 351,
   "metadata": {},
   "outputs": [
    {
     "name": "stdout",
     "output_type": "stream",
     "text": [
      "Extracting MNIST/train-images-idx3-ubyte.gz\n",
      "Extracting MNIST/train-labels-idx1-ubyte.gz\n",
      "Extracting MNIST/t10k-images-idx3-ubyte.gz\n",
      "Extracting MNIST/t10k-labels-idx1-ubyte.gz\n"
     ]
    }
   ],
   "source": [
    "import tensorflow.examples.tutorials.mnist.input_data as input_data\n",
    "mnist=input_data.read_data_sets(\"MNIST\")"
   ]
  },
  {
   "cell_type": "code",
   "execution_count": 352,
   "metadata": {},
   "outputs": [],
   "source": [
    "reduced_train = mnist.train.labels < 5\n",
    "reduced_valid = mnist.validation.labels < 5\n",
    "#print (reduced_valid)\n",
    "mnist_train_images_reduced = mnist.train.images[reduced_train]\n",
    "mnist_train_labels_reduced = mnist.train.labels[reduced_train]\n",
    "mnist_valid_images_reduced = mnist.validation.images[reduced_valid]\n",
    "mnist_valid_labels_reduced = mnist.validation.labels[reduced_valid]"
   ]
  },
  {
   "cell_type": "code",
   "execution_count": 353,
   "metadata": {},
   "outputs": [],
   "source": [
    "n_inputs = 28*28\n",
    "n_hidden1 = 100\n",
    "n_hidden2 = 100\n",
    "n_hidden3 = 100\n",
    "n_hidden4 = 100\n",
    "n_hidden5 = 100\n",
    "n_outputs = 5"
   ]
  },
  {
   "cell_type": "code",
   "execution_count": 354,
   "metadata": {},
   "outputs": [],
   "source": [
    "X = tf.placeholder(tf.float32, shape=(None, n_inputs), name = \"X\") # 이미 scaled 되어있는 데이터가 들어갈 예정\n",
    "Y = tf.placeholder(tf.int32, shape=(None), name=\"Y\")"
   ]
  },
  {
   "cell_type": "code",
   "execution_count": 355,
   "metadata": {},
   "outputs": [],
   "source": [
    "# DNN 만들어주는 파트, name_scope로 만들어주는 부분들의 이름들을 하나로 묶음\n",
    "\n",
    "he_init = tf.contrib.layers.variance_scaling_initializer()\n",
    "with tf.name_scope(\"dnn\"):\n",
    "    hidden1 = tf.layers.dense(X, n_hidden1, name=\"hidden1\", activation=tf.nn.elu, kernel_initializer=he_init)\n",
    "    hidden2 = tf.layers.dense(hidden1, n_hidden2, name=\"hidden2\", activation=tf.nn.elu, kernel_initializer=he_init)\n",
    "    hidden3 = tf.layers.dense(hidden2, n_hidden3, name=\"hidden3\", activation=tf.nn.elu, kernel_initializer=he_init)\n",
    "    hidden4 = tf.layers.dense(hidden3, n_hidden4, name=\"hidden4\", activation=tf.nn.elu, kernel_initializer=he_init)\n",
    "    hidden5 = tf.layers.dense(hidden4, n_hidden5, name=\"hidden5\", activation=tf.nn.elu, kernel_initializer=he_init)\n",
    "    logits = tf.layers.dense(hidden5, n_outputs, name=\"outputs\", kernel_initializer=he_init)\n",
    "    logits_out = tf.nn.softmax(logits)"
   ]
  },
  {
   "cell_type": "code",
   "execution_count": 356,
   "metadata": {},
   "outputs": [],
   "source": [
    "# DNN에서 평가를 위한 loss파트 정의\n",
    "with tf.name_scope(\"loss\"):\n",
    "    xentropy = tf.nn.sparse_softmax_cross_entropy_with_logits(labels=Y, logits=logits)\n",
    "    cost = tf.reduce_mean(xentropy, name=\"cost\")"
   ]
  },
  {
   "cell_type": "code",
   "execution_count": 357,
   "metadata": {},
   "outputs": [],
   "source": [
    "# DNN 훈련파트\n",
    "learning_rate = 0.01\n",
    "with tf.name_scope(\"train\"):\n",
    "    #optimizer = tf.train.GradientDescentOptimizer(learning_rate=learning_rate)\n",
    "    #optimizer = tf.train.MomentumOptimizer(learning_rate=learning_rate, momentum=0.9)\n",
    "    optimizer = tf.train.AdamOptimizer(learning_rate=learning_rate)\n",
    "    training_op = optimizer.minimize(cost)"
   ]
  },
  {
   "cell_type": "code",
   "execution_count": 358,
   "metadata": {},
   "outputs": [],
   "source": [
    "## DNN 평가를 위한 파트\n",
    "with tf.name_scope(\"eval\"):\n",
    "    correct = tf.nn.in_top_k(logits, Y, 1) ## \n",
    "    accuracy = tf.reduce_mean(tf.cast(correct, tf.float32)) ## type을 bool에서 float32로 바꿔줌"
   ]
  },
  {
   "cell_type": "code",
   "execution_count": 359,
   "metadata": {},
   "outputs": [],
   "source": [
    "n_epochs = 30\n",
    "batch_size = 1000 ## 최대한 트레이닝 샘플 개수의 약수로 나오게 현재는 28038개"
   ]
  },
  {
   "cell_type": "code",
   "execution_count": 363,
   "metadata": {},
   "outputs": [
    {
     "name": "stdout",
     "output_type": "stream",
     "text": [
      "[<tf.Variable 'hidden1/kernel:0' shape=(784, 100) dtype=float32_ref>, <tf.Variable 'hidden1/bias:0' shape=(100,) dtype=float32_ref>, <tf.Variable 'hidden2/kernel:0' shape=(100, 100) dtype=float32_ref>, <tf.Variable 'hidden2/bias:0' shape=(100,) dtype=float32_ref>, <tf.Variable 'hidden3/kernel:0' shape=(100, 100) dtype=float32_ref>, <tf.Variable 'hidden3/bias:0' shape=(100,) dtype=float32_ref>, <tf.Variable 'hidden4/kernel:0' shape=(100, 100) dtype=float32_ref>, <tf.Variable 'hidden4/bias:0' shape=(100,) dtype=float32_ref>, <tf.Variable 'hidden5/kernel:0' shape=(100, 100) dtype=float32_ref>, <tf.Variable 'hidden5/bias:0' shape=(100,) dtype=float32_ref>, <tf.Variable 'hidden1/kernel/Adam:0' shape=(784, 100) dtype=float32_ref>, <tf.Variable 'hidden1/kernel/Adam_1:0' shape=(784, 100) dtype=float32_ref>, <tf.Variable 'hidden1/bias/Adam:0' shape=(100,) dtype=float32_ref>, <tf.Variable 'hidden1/bias/Adam_1:0' shape=(100,) dtype=float32_ref>, <tf.Variable 'hidden2/kernel/Adam:0' shape=(100, 100) dtype=float32_ref>, <tf.Variable 'hidden2/kernel/Adam_1:0' shape=(100, 100) dtype=float32_ref>, <tf.Variable 'hidden2/bias/Adam:0' shape=(100,) dtype=float32_ref>, <tf.Variable 'hidden2/bias/Adam_1:0' shape=(100,) dtype=float32_ref>, <tf.Variable 'hidden3/kernel/Adam:0' shape=(100, 100) dtype=float32_ref>, <tf.Variable 'hidden3/kernel/Adam_1:0' shape=(100, 100) dtype=float32_ref>, <tf.Variable 'hidden3/bias/Adam:0' shape=(100,) dtype=float32_ref>, <tf.Variable 'hidden3/bias/Adam_1:0' shape=(100,) dtype=float32_ref>, <tf.Variable 'hidden4/kernel/Adam:0' shape=(100, 100) dtype=float32_ref>, <tf.Variable 'hidden4/kernel/Adam_1:0' shape=(100, 100) dtype=float32_ref>, <tf.Variable 'hidden4/bias/Adam:0' shape=(100,) dtype=float32_ref>, <tf.Variable 'hidden4/bias/Adam_1:0' shape=(100,) dtype=float32_ref>, <tf.Variable 'hidden5/kernel/Adam:0' shape=(100, 100) dtype=float32_ref>, <tf.Variable 'hidden5/kernel/Adam_1:0' shape=(100, 100) dtype=float32_ref>, <tf.Variable 'hidden5/bias/Adam:0' shape=(100,) dtype=float32_ref>, <tf.Variable 'hidden5/bias/Adam_1:0' shape=(100,) dtype=float32_ref>]\n"
     ]
    }
   ],
   "source": [
    "### 재사용할 레이어 불러오기\n",
    "reuse_vars = tf.get_collection(tf.GraphKeys.GLOBAL_VARIABLES,scope=\"hidden[12345]\") # scope에 아무것도 안하면 전체 다 불러옴 즉 마지막 출력층 (ouput)까지 불러옴\n",
    "print (reuse_vars) # 출력해보면 어떤게 나오는지 감이 잡힘\n",
    "restore_saver = tf.train.Saver(reuse_vars)"
   ]
  },
  {
   "cell_type": "code",
   "execution_count": 365,
   "metadata": {},
   "outputs": [
    {
     "name": "stdout",
     "output_type": "stream",
     "text": [
      "[<tf.Variable 'hidden1/kernel:0' shape=(784, 100) dtype=float32_ref>, <tf.Variable 'hidden1/bias:0' shape=(100,) dtype=float32_ref>, <tf.Variable 'hidden2/kernel:0' shape=(100, 100) dtype=float32_ref>, <tf.Variable 'hidden2/bias:0' shape=(100,) dtype=float32_ref>, <tf.Variable 'hidden3/kernel:0' shape=(100, 100) dtype=float32_ref>, <tf.Variable 'hidden3/bias:0' shape=(100,) dtype=float32_ref>, <tf.Variable 'hidden4/kernel:0' shape=(100, 100) dtype=float32_ref>, <tf.Variable 'hidden4/bias:0' shape=(100,) dtype=float32_ref>, <tf.Variable 'hidden5/kernel:0' shape=(100, 100) dtype=float32_ref>, <tf.Variable 'hidden5/bias:0' shape=(100,) dtype=float32_ref>]\n"
     ]
    }
   ],
   "source": [
    "reuse_vars2 = tf.get_collection(tf.GraphKeys.TRAINABLE_VARIABLES, scope=\"hidden[12345]\")\n",
    "print (reuse_vars2) # 출력해보면 어떤게 나오는지 감이 잡힘\n",
    "#restore_saver = tf.train.Saver(reuse_vars2)"
   ]
  },
  {
   "cell_type": "code",
   "execution_count": 366,
   "metadata": {},
   "outputs": [],
   "source": [
    "init = tf.global_variables_initializer() # 새변수 구변수 모두 초기화 어차피 자세한 변수들은 아래에서 불러오니깐 상관없음.\n",
    "saver = tf.train.Saver()"
   ]
  },
  {
   "cell_type": "code",
   "execution_count": 367,
   "metadata": {},
   "outputs": [],
   "source": [
    "cost_summary = tf.summary.scalar('cost', cost)\n",
    "file_writer = tf.summary.FileWriter(logdir, tf.get_default_graph())\n",
    "\n",
    "n_batches = mnist_train_images_reduced.shape[0] // batch_size"
   ]
  },
  {
   "cell_type": "code",
   "execution_count": 369,
   "metadata": {},
   "outputs": [
    {
     "name": "stdout",
     "output_type": "stream",
     "text": [
      "INFO:tensorflow:Restoring parameters from ./Ch11_HW_final.ckpt\n",
      "0 Train accuracy: 0.984016 Validation accuracy: 0.9769351\n",
      "1 Train accuracy: 0.991009 Validation accuracy: 0.9824081\n",
      "2 Train accuracy: 0.992008 Validation accuracy: 0.9870993\n",
      "3 Train accuracy: 0.997003 Validation accuracy: 0.9878812\n",
      "4 Train accuracy: 1.0 Validation accuracy: 0.9882721\n",
      "5 Train accuracy: 0.999001 Validation accuracy: 0.9878812\n",
      "6 Train accuracy: 1.0 Validation accuracy: 0.98944485\n",
      "7 Train accuracy: 1.0 Validation accuracy: 0.9898358\n",
      "8 Train accuracy: 0.999001 Validation accuracy: 0.99022675\n",
      "9 Train accuracy: 1.0 Validation accuracy: 0.9917905\n",
      "10 Train accuracy: 1.0 Validation accuracy: 0.98944485\n",
      "11 Train accuracy: 1.0 Validation accuracy: 0.98905396\n",
      "12 Train accuracy: 1.0 Validation accuracy: 0.9910086\n",
      "13 Train accuracy: 1.0 Validation accuracy: 0.99022675\n",
      "14 Train accuracy: 1.0 Validation accuracy: 0.9906177\n",
      "15 Train accuracy: 1.0 Validation accuracy: 0.99022675\n",
      "16 Train accuracy: 1.0 Validation accuracy: 0.9906177\n",
      "17 Train accuracy: 1.0 Validation accuracy: 0.9910086\n",
      "18 Train accuracy: 1.0 Validation accuracy: 0.9906177\n",
      "19 Train accuracy: 1.0 Validation accuracy: 0.99022675\n",
      "20 Train accuracy: 1.0 Validation accuracy: 0.9910086\n",
      "21 Train accuracy: 1.0 Validation accuracy: 0.9898358\n",
      "22 Train accuracy: 1.0 Validation accuracy: 0.9906177\n",
      "23 Train accuracy: 1.0 Validation accuracy: 0.9906177\n",
      "24 Train accuracy: 1.0 Validation accuracy: 0.9906177\n",
      "25 Train accuracy: 1.0 Validation accuracy: 0.99022675\n",
      "26 Train accuracy: 1.0 Validation accuracy: 0.99022675\n",
      "27 Train accuracy: 1.0 Validation accuracy: 0.9906177\n",
      "28 Train accuracy: 1.0 Validation accuracy: 0.99022675\n",
      "29 Train accuracy: 1.0 Validation accuracy: 0.9906177\n"
     ]
    }
   ],
   "source": [
    "with tf.Session() as sess:\n",
    "    init.run()\n",
    "    #### 이전 레이어 불러오기\n",
    "    restore_saver.restore(sess,\"./Ch11_HW_final.ckpt\") # 여기에서 위에서 선언한 varibale들 다 불러옴.\n",
    "    for epoch in range(n_epochs):\n",
    "        shuffled_idx = np.random.permutation(mnist_train_images_reduced.shape[0])\n",
    "        X_batches = np.array_split(mnist_train_images_reduced[shuffled_idx], n_batches)\n",
    "        Y_batches = np.array_split(mnist_train_labels_reduced[shuffled_idx], n_batches)\n",
    "        batch_index = 0\n",
    "        for X_batch, Y_batch in zip(X_batches, Y_batches):\n",
    "            sess.run(training_op, feed_dict={X:X_batch, Y:Y_batch})\n",
    "            batch_index += 1\n",
    "            loss = cost.eval(feed_dict={X:X_batch, Y:Y_batch}) # iteration 돌릴때 cost=cost.eval(~)f로 하면 중복되어버림 즉 cost가 numpy float으로 선언되어버림\n",
    "            step = epoch * n_batches + batch_index\n",
    "            summary_str = cost_summary.eval(feed_dict={X: X_batch, Y: Y_batch})\n",
    "            file_writer.add_summary(summary_str, step)\n",
    "        acc_train = accuracy.eval(feed_dict={X:X_batch, Y:Y_batch})\n",
    "        acc_val = accuracy.eval(feed_dict={X: mnist_valid_images_reduced, Y:mnist_valid_labels_reduced})\n",
    "        #print (epoch, \"Train accuracy:\", acc_train, \"Cost:\", loss)\n",
    "        print(epoch, \"Train accuracy:\", acc_train, \"Validation accuracy:\", acc_val)\n",
    "    save_path = saver.save(sess, \"./Ch11_HW_final_new.ckpt\")\n",
    "    file_writer.close()"
   ]
  },
  {
   "cell_type": "markdown",
   "metadata": {},
   "source": [
    "### 앞에서 meta파일을 세이버로 하면 안됨?\n",
    "#### 안됨 그 이유는 import로 그래프를 불러오면 뒤에서 get_collection할 때 그래프가 중복되어 버림. 프린트해보면 _number가 붙는데 이말은 그래프가 중복해서 쌓였다는 이야기임"
   ]
  },
  {
   "cell_type": "markdown",
   "metadata": {},
   "source": [
    "## 동결해보기 \n",
    "`\n",
    "train_vars = tf.get_collection(tf.GraphKeys.TRAINABLE_VARIABLES, scope=\"hidden[34]|outputs\")\n",
    "training_op = optimizer.minizie(loss, var_list=train_vars)\n",
    "`\n",
    "\n",
    "다른방법도 가능    \n",
    "\n",
    "`\n",
    "hidden3_stop = tf.stop_gardient(hidden3)\n",
    "`"
   ]
  },
  {
   "cell_type": "code",
   "execution_count": 394,
   "metadata": {},
   "outputs": [],
   "source": [
    "tf.reset_default_graph()"
   ]
  },
  {
   "cell_type": "code",
   "execution_count": 395,
   "metadata": {},
   "outputs": [
    {
     "name": "stdout",
     "output_type": "stream",
     "text": [
      "Extracting MNIST/train-images-idx3-ubyte.gz\n",
      "Extracting MNIST/train-labels-idx1-ubyte.gz\n",
      "Extracting MNIST/t10k-images-idx3-ubyte.gz\n",
      "Extracting MNIST/t10k-labels-idx1-ubyte.gz\n"
     ]
    }
   ],
   "source": [
    "import tensorflow.examples.tutorials.mnist.input_data as input_data\n",
    "mnist=input_data.read_data_sets(\"MNIST\")"
   ]
  },
  {
   "cell_type": "code",
   "execution_count": 396,
   "metadata": {},
   "outputs": [],
   "source": [
    "reduced_train = mnist.train.labels < 5\n",
    "reduced_valid = mnist.validation.labels < 5\n",
    "#print (reduced_valid)\n",
    "mnist_train_images_reduced = mnist.train.images[reduced_train]\n",
    "mnist_train_labels_reduced = mnist.train.labels[reduced_train]\n",
    "mnist_valid_images_reduced = mnist.validation.images[reduced_valid]\n",
    "mnist_valid_labels_reduced = mnist.validation.labels[reduced_valid]"
   ]
  },
  {
   "cell_type": "code",
   "execution_count": 397,
   "metadata": {},
   "outputs": [],
   "source": [
    "n_inputs = 28*28\n",
    "n_hidden1 = 100\n",
    "n_hidden2 = 100\n",
    "n_hidden3 = 100\n",
    "n_hidden4 = 100\n",
    "n_hidden5 = 100\n",
    "n_outputs = 5"
   ]
  },
  {
   "cell_type": "code",
   "execution_count": 398,
   "metadata": {},
   "outputs": [],
   "source": [
    "X = tf.placeholder(tf.float32, shape=(None, n_inputs), name = \"X\") # 이미 scaled 되어있는 데이터가 들어갈 예정\n",
    "Y = tf.placeholder(tf.int32, shape=(None), name=\"Y\")"
   ]
  },
  {
   "cell_type": "code",
   "execution_count": 399,
   "metadata": {},
   "outputs": [],
   "source": [
    "# DNN 만들어주는 파트, name_scope로 만들어주는 부분들의 이름들을 하나로 묶음\n",
    "\n",
    "he_init = tf.contrib.layers.variance_scaling_initializer()\n",
    "with tf.name_scope(\"dnn\"):\n",
    "    hidden1 = tf.layers.dense(X, n_hidden1, name=\"hidden1\", activation=tf.nn.elu, kernel_initializer=he_init)\n",
    "    hidden2 = tf.layers.dense(hidden1, n_hidden2, name=\"hidden2\", activation=tf.nn.elu, kernel_initializer=he_init)\n",
    "    hidden3 = tf.layers.dense(hidden2, n_hidden3, name=\"hidden3\", activation=tf.nn.elu, kernel_initializer=he_init)\n",
    "    hidden3_stop = tf.stop_gradient(hidden2)\n",
    "    hidden4 = tf.layers.dense(hidden3_stop, n_hidden4, name=\"hidden4\", activation=tf.nn.elu, kernel_initializer=he_init)\n",
    "    hidden5 = tf.layers.dense(hidden4, n_hidden5, name=\"hidden5\", activation=tf.nn.elu, kernel_initializer=he_init)\n",
    "    logits = tf.layers.dense(hidden5, n_outputs, name=\"outputs\", kernel_initializer=he_init)\n",
    "    logits_out = tf.nn.softmax(logits)"
   ]
  },
  {
   "cell_type": "code",
   "execution_count": 400,
   "metadata": {},
   "outputs": [],
   "source": [
    "# DNN에서 평가를 위한 loss파트 정의\n",
    "with tf.name_scope(\"loss\"):\n",
    "    xentropy = tf.nn.sparse_softmax_cross_entropy_with_logits(labels=Y, logits=logits)\n",
    "    cost = tf.reduce_mean(xentropy, name=\"cost\")"
   ]
  },
  {
   "cell_type": "code",
   "execution_count": 401,
   "metadata": {},
   "outputs": [],
   "source": [
    "# DNN 훈련파트\n",
    "learning_rate = 0.01\n",
    "with tf.name_scope(\"train\"):\n",
    "    #optimizer = tf.train.GradientDescentOptimizer(learning_rate=learning_rate)\n",
    "    #optimizer = tf.train.MomentumOptimizer(learning_rate=learning_rate, momentum=0.9)\n",
    "    optimizer = tf.train.AdamOptimizer(learning_rate=learning_rate)\n",
    "    #train_vars = tf.get_collection(tf.GraphKeys.TRAINABLE_VARIABLES, scope=\"hidden[34]|outputs\")\n",
    "    #print (train_vars)\n",
    "    #training_op = optimizer.minimize(cost, var_list=train_vars)\n",
    "    training_op = optimizer.minimize(cost)"
   ]
  },
  {
   "cell_type": "code",
   "execution_count": 402,
   "metadata": {},
   "outputs": [],
   "source": [
    "## DNN 평가를 위한 파트\n",
    "with tf.name_scope(\"eval\"):\n",
    "    correct = tf.nn.in_top_k(logits, Y, 1) ## \n",
    "    accuracy = tf.reduce_mean(tf.cast(correct, tf.float32)) ## type을 bool에서 float32로 바꿔줌"
   ]
  },
  {
   "cell_type": "code",
   "execution_count": 403,
   "metadata": {},
   "outputs": [],
   "source": [
    "n_epochs = 30\n",
    "batch_size = 1000 ## 최대한 트레이닝 샘플 개수의 약수로 나오게 현재는 28038개"
   ]
  },
  {
   "cell_type": "code",
   "execution_count": 404,
   "metadata": {},
   "outputs": [],
   "source": [
    "init = tf.global_variables_initializer() # 새변수 구변수 모두 초기화 어차피 자세한 변수들은 아래에서 불러오니깐 상관없음.\n",
    "saver = tf.train.Saver()"
   ]
  },
  {
   "cell_type": "code",
   "execution_count": 405,
   "metadata": {},
   "outputs": [],
   "source": [
    "cost_summary = tf.summary.scalar('cost', cost)\n",
    "file_writer = tf.summary.FileWriter(logdir, tf.get_default_graph())\n",
    "\n",
    "n_batches = mnist_train_images_reduced.shape[0] // batch_size"
   ]
  },
  {
   "cell_type": "code",
   "execution_count": 406,
   "metadata": {},
   "outputs": [
    {
     "name": "stdout",
     "output_type": "stream",
     "text": [
      "0 Train accuracy: 0.951049 Validation accuracy: 0.94448787\n",
      "1 Train accuracy: 0.966034 Validation accuracy: 0.9601251\n",
      "2 Train accuracy: 0.97402596 Validation accuracy: 0.9691165\n",
      "3 Train accuracy: 0.98301697 Validation accuracy: 0.9769351\n",
      "4 Train accuracy: 0.987013 Validation accuracy: 0.9784988\n",
      "5 Train accuracy: 0.98301697 Validation accuracy: 0.9765442\n",
      "6 Train accuracy: 0.994006 Validation accuracy: 0.9784988\n",
      "7 Train accuracy: 0.986014 Validation accuracy: 0.9816263\n",
      "8 Train accuracy: 0.988012 Validation accuracy: 0.9816263\n",
      "9 Train accuracy: 0.99000996 Validation accuracy: 0.98358095\n",
      "10 Train accuracy: 0.995005 Validation accuracy: 0.98279905\n",
      "11 Train accuracy: 0.984016 Validation accuracy: 0.98319\n",
      "12 Train accuracy: 0.995005 Validation accuracy: 0.98358095\n",
      "13 Train accuracy: 0.997003 Validation accuracy: 0.98553556\n",
      "14 Train accuracy: 0.998002 Validation accuracy: 0.98279905\n",
      "15 Train accuracy: 0.996004 Validation accuracy: 0.98631746\n",
      "16 Train accuracy: 1.0 Validation accuracy: 0.9859265\n",
      "17 Train accuracy: 1.0 Validation accuracy: 0.98670834\n",
      "18 Train accuracy: 1.0 Validation accuracy: 0.9847537\n",
      "19 Train accuracy: 0.999001 Validation accuracy: 0.9847537\n",
      "20 Train accuracy: 0.998002 Validation accuracy: 0.98631746\n",
      "21 Train accuracy: 0.999001 Validation accuracy: 0.98631746\n",
      "22 Train accuracy: 1.0 Validation accuracy: 0.9851446\n",
      "23 Train accuracy: 1.0 Validation accuracy: 0.9820172\n",
      "24 Train accuracy: 1.0 Validation accuracy: 0.98319\n",
      "25 Train accuracy: 0.998002 Validation accuracy: 0.9843628\n",
      "26 Train accuracy: 0.999001 Validation accuracy: 0.9843628\n",
      "27 Train accuracy: 0.999001 Validation accuracy: 0.9851446\n",
      "28 Train accuracy: 0.998002 Validation accuracy: 0.9843628\n",
      "29 Train accuracy: 1.0 Validation accuracy: 0.98749024\n"
     ]
    }
   ],
   "source": [
    "with tf.Session() as sess:\n",
    "    init.run()\n",
    "    for epoch in range(n_epochs):\n",
    "        shuffled_idx = np.random.permutation(mnist_train_images_reduced.shape[0])\n",
    "        X_batches = np.array_split(mnist_train_images_reduced[shuffled_idx], n_batches)\n",
    "        Y_batches = np.array_split(mnist_train_labels_reduced[shuffled_idx], n_batches)\n",
    "        batch_index = 0\n",
    "        for X_batch, Y_batch in zip(X_batches, Y_batches):\n",
    "            sess.run(training_op, feed_dict={X:X_batch, Y:Y_batch})\n",
    "            batch_index += 1\n",
    "            loss = cost.eval(feed_dict={X:X_batch, Y:Y_batch}) # iteration 돌릴때 cost=cost.eval(~)f로 하면 중복되어버림 즉 cost가 numpy float으로 선언되어버림\n",
    "            step = epoch * n_batches + batch_index\n",
    "            summary_str = cost_summary.eval(feed_dict={X: X_batch, Y: Y_batch})\n",
    "            file_writer.add_summary(summary_str, step)\n",
    "        acc_train = accuracy.eval(feed_dict={X:X_batch, Y:Y_batch})\n",
    "        acc_val = accuracy.eval(feed_dict={X: mnist_valid_images_reduced, Y:mnist_valid_labels_reduced})\n",
    "        #print (epoch, \"Train accuracy:\", acc_train, \"Cost:\", loss)\n",
    "        print(epoch, \"Train accuracy:\", acc_train, \"Validation accuracy:\", acc_val)\n",
    "    save_path = saver.save(sess, \"./Ch11_HW_final_new.ckpt\")\n",
    "    file_writer.close()"
   ]
  },
  {
   "cell_type": "markdown",
   "metadata": {},
   "source": [
    "## 재사용하는 네트워크로 새로운 데이터 훈련해보기"
   ]
  },
  {
   "cell_type": "code",
   "execution_count": 540,
   "metadata": {},
   "outputs": [],
   "source": [
    "tf.reset_default_graph()\n",
    "#saver_meta = tf.train.import_meta_graph(\"./Ch11_HW_final.ckpt.meta\")"
   ]
  },
  {
   "cell_type": "code",
   "execution_count": 541,
   "metadata": {},
   "outputs": [
    {
     "name": "stdout",
     "output_type": "stream",
     "text": [
      "Extracting MNIST/train-images-idx3-ubyte.gz\n",
      "Extracting MNIST/train-labels-idx1-ubyte.gz\n",
      "Extracting MNIST/t10k-images-idx3-ubyte.gz\n",
      "Extracting MNIST/t10k-labels-idx1-ubyte.gz\n"
     ]
    }
   ],
   "source": [
    "import tensorflow.examples.tutorials.mnist.input_data as input_data\n",
    "mnist=input_data.read_data_sets(\"MNIST\")"
   ]
  },
  {
   "cell_type": "markdown",
   "metadata": {},
   "source": [
    "새로운데이터 만들기"
   ]
  },
  {
   "cell_type": "code",
   "execution_count": 542,
   "metadata": {},
   "outputs": [
    {
     "name": "stdout",
     "output_type": "stream",
     "text": [
      "[0 0 0 0 0 0 0 0 0 0 0 0 0 0 0 0 0 0 0 0 0 0 0 0 0 0 0 0 0 0 0 0 0 0 0 0 0\n",
      " 0 0 0 0 0 0 0 0 0 0 0 0 0 0 0 0 0 0 0 0 0 0 0 0 0 0 0 0 0 0 0 0 0 0 0 0 0\n",
      " 0 0 0 0 0 0 0 0 0 0 0 0 0 0 0 0 0 0 0 0 0 0 0 0 0 0 1 1 1 1 1 1 1 1 1 1 1\n",
      " 1 1 1 1 1 1 1 1 1 1 1 1 1 1 1 1 1 1 1 1 1 1 1 1 1 1 1 1 1 1 1 1 1 1 1 1 1\n",
      " 1 1 1 1 1 1 1 1 1 1 1 1 1 1 1 1 1 1 1 1 1 1 1 1 1 1 1 1 1 1 1 1 1 1 1 1 1\n",
      " 1 1 1 1 1 1 1 1 1 1 1 1 1 1 1 2 2 2 2 2 2 2 2 2 2 2 2 2 2 2 2 2 2 2 2 2 2\n",
      " 2 2 2 2 2 2 2 2 2 2 2 2 2 2 2 2 2 2 2 2 2 2 2 2 2 2 2 2 2 2 2 2 2 2 2 2 2\n",
      " 2 2 2 2 2 2 2 2 2 2 2 2 2 2 2 2 2 2 2 2 2 2 2 2 2 2 2 2 2 2 2 2 2 2 2 2 2\n",
      " 2 2 2 2 3 3 3 3 3 3 3 3 3 3 3 3 3 3 3 3 3 3 3 3 3 3 3 3 3 3 3 3 3 3 3 3 3\n",
      " 3 3 3 3 3 3 3 3 3 3 3 3 3 3 3 3 3 3 3 3 3 3 3 3 3 3 3 3 3 3 3 3 3 3 3 3 3\n",
      " 3 3 3 3 3 3 3 3 3 3 3 3 3 3 3 3 3 3 3 3 3 3 3 3 3 3 3 3 3 3 4 4 4 4 4 4 4\n",
      " 4 4 4 4 4 4 4 4 4 4 4 4 4 4 4 4 4 4 4 4 4 4 4 4 4 4 4 4 4 4 4 4 4 4 4 4 4\n",
      " 4 4 4 4 4 4 4 4 4 4 4 4 4 4 4 4 4 4 4 4 4 4 4 4 4 4 4 4 4 4 4 4 4 4 4 4 4\n",
      " 4 4 4 4 4 4 4 4 4 4 4 4 4 4 4 4 4 4 4]\n"
     ]
    }
   ],
   "source": [
    "reduced_train_index = []\n",
    "reduced_valid_index = []\n",
    "num_data = 100\n",
    "#print (type(mnist_train_images_reduced))\n",
    "for i in range(5,10):\n",
    "    for j in range(num_data):\n",
    "        reduced_train_index.append(np.where((mnist.train.labels == int(i)) == True)[0][:num_data][j])\n",
    "        reduced_valid_index.append(np.where((mnist.validation.labels == int(i)) == True)[0][:num_data][j])\n",
    "mnist_train_images_reduced = mnist.train.images[reduced_train_index]\n",
    "mnist_train_labels_reduced = mnist.train.labels[reduced_train_index] - 5\n",
    "mnist_valid_images_reduced = mnist.validation.images[reduced_valid_index]\n",
    "mnist_valid_labels_reduced = mnist.validation.labels[reduced_valid_index] -5\n",
    "\n",
    "print (mnist_train_labels_reduced)\n"
   ]
  },
  {
   "cell_type": "code",
   "execution_count": 543,
   "metadata": {},
   "outputs": [],
   "source": [
    "n_inputs = 28*28\n",
    "n_hidden1 = 100\n",
    "n_hidden2 = 100\n",
    "n_hidden3 = 100\n",
    "n_hidden4 = 100\n",
    "n_hidden5 = 100\n",
    "n_outputs = 5"
   ]
  },
  {
   "cell_type": "code",
   "execution_count": 544,
   "metadata": {},
   "outputs": [],
   "source": [
    "X = tf.placeholder(tf.float32, shape=(None, n_inputs), name = \"X\") # 이미 scaled 되어있는 데이터가 들어갈 예정\n",
    "Y = tf.placeholder(tf.int32, shape=(None), name=\"Y\")"
   ]
  },
  {
   "cell_type": "code",
   "execution_count": 545,
   "metadata": {},
   "outputs": [],
   "source": [
    "# DNN 만들어주는 파트, name_scope로 만들어주는 부분들의 이름들을 하나로 묶음\n",
    "\n",
    "he_init = tf.contrib.layers.variance_scaling_initializer()\n",
    "with tf.name_scope(\"dnn\"):\n",
    "    hidden1 = tf.layers.dense(X, n_hidden1, name=\"hidden1\", activation=tf.nn.elu, kernel_initializer=he_init)\n",
    "    hidden2 = tf.layers.dense(hidden1, n_hidden2, name=\"hidden2\", activation=tf.nn.elu, kernel_initializer=he_init)\n",
    "    hidden3 = tf.layers.dense(hidden2, n_hidden3, name=\"hidden3\", activation=tf.nn.elu, kernel_initializer=he_init)\n",
    "    hidden4 = tf.layers.dense(hidden3, n_hidden4, name=\"hidden4\", activation=tf.nn.elu, kernel_initializer=he_init)\n",
    "    hidden5 = tf.layers.dense(hidden4, n_hidden5, name=\"hidden5\", activation=tf.nn.elu, kernel_initializer=he_init)\n",
    "    logits = tf.layers.dense(hidden5, n_outputs, name=\"outputs\", kernel_initializer=he_init)\n",
    "    logits_out = tf.nn.softmax(logits)"
   ]
  },
  {
   "cell_type": "code",
   "execution_count": 546,
   "metadata": {},
   "outputs": [],
   "source": [
    "# DNN에서 평가를 위한 loss파트 정의\n",
    "with tf.name_scope(\"loss\"):\n",
    "    xentropy = tf.nn.sparse_softmax_cross_entropy_with_logits(labels=Y, logits=logits)\n",
    "    cost = tf.reduce_mean(xentropy, name=\"cost\")"
   ]
  },
  {
   "cell_type": "code",
   "execution_count": 547,
   "metadata": {},
   "outputs": [],
   "source": [
    "# DNN 훈련파트\n",
    "learning_rate = 0.01\n",
    "with tf.name_scope(\"train\"):\n",
    "    #optimizer = tf.train.GradientDescentOptimizer(learning_rate=learning_rate)\n",
    "    #optimizer = tf.train.MomentumOptimizer(learning_rate=learning_rate, momentum=0.9)\n",
    "    optimizer = tf.train.AdamOptimizer(learning_rate=learning_rate)\n",
    "    training_op = optimizer.minimize(cost)"
   ]
  },
  {
   "cell_type": "code",
   "execution_count": 548,
   "metadata": {},
   "outputs": [],
   "source": [
    "## DNN 평가를 위한 파트\n",
    "with tf.name_scope(\"eval\"):\n",
    "    correct = tf.nn.in_top_k(logits, Y, 1) ## \n",
    "    accuracy = tf.reduce_mean(tf.cast(correct, tf.float32)) ## type을 bool에서 float32로 바꿔줌"
   ]
  },
  {
   "cell_type": "code",
   "execution_count": 555,
   "metadata": {},
   "outputs": [],
   "source": [
    "n_epochs = 30\n",
    "batch_size = 100 ## 최대한 트레이닝 샘플 개수의 약수로 나오게 현재는 28038개"
   ]
  },
  {
   "cell_type": "code",
   "execution_count": 556,
   "metadata": {},
   "outputs": [
    {
     "name": "stdout",
     "output_type": "stream",
     "text": [
      "[<tf.Variable 'hidden1/kernel:0' shape=(784, 100) dtype=float32_ref>, <tf.Variable 'hidden1/bias:0' shape=(100,) dtype=float32_ref>, <tf.Variable 'hidden2/kernel:0' shape=(100, 100) dtype=float32_ref>, <tf.Variable 'hidden2/bias:0' shape=(100,) dtype=float32_ref>, <tf.Variable 'hidden3/kernel:0' shape=(100, 100) dtype=float32_ref>, <tf.Variable 'hidden3/bias:0' shape=(100,) dtype=float32_ref>, <tf.Variable 'hidden4/kernel:0' shape=(100, 100) dtype=float32_ref>, <tf.Variable 'hidden4/bias:0' shape=(100,) dtype=float32_ref>, <tf.Variable 'hidden5/kernel:0' shape=(100, 100) dtype=float32_ref>, <tf.Variable 'hidden5/bias:0' shape=(100,) dtype=float32_ref>, <tf.Variable 'hidden1/kernel/Adam:0' shape=(784, 100) dtype=float32_ref>, <tf.Variable 'hidden1/kernel/Adam_1:0' shape=(784, 100) dtype=float32_ref>, <tf.Variable 'hidden1/bias/Adam:0' shape=(100,) dtype=float32_ref>, <tf.Variable 'hidden1/bias/Adam_1:0' shape=(100,) dtype=float32_ref>, <tf.Variable 'hidden2/kernel/Adam:0' shape=(100, 100) dtype=float32_ref>, <tf.Variable 'hidden2/kernel/Adam_1:0' shape=(100, 100) dtype=float32_ref>, <tf.Variable 'hidden2/bias/Adam:0' shape=(100,) dtype=float32_ref>, <tf.Variable 'hidden2/bias/Adam_1:0' shape=(100,) dtype=float32_ref>, <tf.Variable 'hidden3/kernel/Adam:0' shape=(100, 100) dtype=float32_ref>, <tf.Variable 'hidden3/kernel/Adam_1:0' shape=(100, 100) dtype=float32_ref>, <tf.Variable 'hidden3/bias/Adam:0' shape=(100,) dtype=float32_ref>, <tf.Variable 'hidden3/bias/Adam_1:0' shape=(100,) dtype=float32_ref>, <tf.Variable 'hidden4/kernel/Adam:0' shape=(100, 100) dtype=float32_ref>, <tf.Variable 'hidden4/kernel/Adam_1:0' shape=(100, 100) dtype=float32_ref>, <tf.Variable 'hidden4/bias/Adam:0' shape=(100,) dtype=float32_ref>, <tf.Variable 'hidden4/bias/Adam_1:0' shape=(100,) dtype=float32_ref>, <tf.Variable 'hidden5/kernel/Adam:0' shape=(100, 100) dtype=float32_ref>, <tf.Variable 'hidden5/kernel/Adam_1:0' shape=(100, 100) dtype=float32_ref>, <tf.Variable 'hidden5/bias/Adam:0' shape=(100,) dtype=float32_ref>, <tf.Variable 'hidden5/bias/Adam_1:0' shape=(100,) dtype=float32_ref>]\n"
     ]
    }
   ],
   "source": [
    "### 재사용할 레이어 불러오기\n",
    "reuse_vars = tf.get_collection(tf.GraphKeys.GLOBAL_VARIABLES,scope=\"hidden[12345]\") # scope에 아무것도 안하면 전체 다 불러옴 즉 마지막 출력층 (ouput)까지 불러옴\n",
    "print (reuse_vars) # 출력해보면 어떤게 나오는지 감이 잡힘\n",
    "restore_saver = tf.train.Saver(reuse_vars)"
   ]
  },
  {
   "cell_type": "code",
   "execution_count": 557,
   "metadata": {},
   "outputs": [],
   "source": [
    "init = tf.global_variables_initializer() # 새변수 구변수 모두 초기화 어차피 자세한 변수들은 아래에서 불러오니깐 상관없음.\n",
    "saver = tf.train.Saver()"
   ]
  },
  {
   "cell_type": "code",
   "execution_count": 558,
   "metadata": {},
   "outputs": [
    {
     "name": "stdout",
     "output_type": "stream",
     "text": [
      "5\n"
     ]
    }
   ],
   "source": [
    "cost_summary = tf.summary.scalar('cost', cost)\n",
    "file_writer = tf.summary.FileWriter(logdir, tf.get_default_graph())\n",
    "\n",
    "n_batches = mnist_train_images_reduced.shape[0] // batch_size\n",
    "print (n_batches)"
   ]
  },
  {
   "cell_type": "code",
   "execution_count": 559,
   "metadata": {},
   "outputs": [
    {
     "name": "stdout",
     "output_type": "stream",
     "text": [
      "INFO:tensorflow:Restoring parameters from ./Ch11_HW_final.ckpt\n",
      "0 Train accuracy: 0.64 Validation accuracy: 0.62\n",
      "1 Train accuracy: 0.89 Validation accuracy: 0.83\n",
      "2 Train accuracy: 0.88 Validation accuracy: 0.804\n",
      "3 Train accuracy: 0.91 Validation accuracy: 0.862\n",
      "4 Train accuracy: 0.96 Validation accuracy: 0.888\n",
      "5 Train accuracy: 0.95 Validation accuracy: 0.864\n",
      "6 Train accuracy: 0.99 Validation accuracy: 0.904\n",
      "7 Train accuracy: 0.96 Validation accuracy: 0.878\n",
      "8 Train accuracy: 1.0 Validation accuracy: 0.91\n",
      "9 Train accuracy: 0.98 Validation accuracy: 0.92\n",
      "10 Train accuracy: 0.98 Validation accuracy: 0.902\n",
      "11 Train accuracy: 0.99 Validation accuracy: 0.916\n",
      "12 Train accuracy: 1.0 Validation accuracy: 0.93\n",
      "13 Train accuracy: 1.0 Validation accuracy: 0.928\n",
      "14 Train accuracy: 1.0 Validation accuracy: 0.928\n",
      "15 Train accuracy: 1.0 Validation accuracy: 0.924\n",
      "16 Train accuracy: 1.0 Validation accuracy: 0.928\n",
      "17 Train accuracy: 1.0 Validation accuracy: 0.926\n",
      "18 Train accuracy: 1.0 Validation accuracy: 0.924\n",
      "19 Train accuracy: 1.0 Validation accuracy: 0.924\n",
      "20 Train accuracy: 1.0 Validation accuracy: 0.928\n",
      "21 Train accuracy: 1.0 Validation accuracy: 0.928\n",
      "22 Train accuracy: 1.0 Validation accuracy: 0.928\n",
      "23 Train accuracy: 1.0 Validation accuracy: 0.93\n",
      "24 Train accuracy: 1.0 Validation accuracy: 0.93\n",
      "25 Train accuracy: 1.0 Validation accuracy: 0.928\n",
      "26 Train accuracy: 1.0 Validation accuracy: 0.928\n",
      "27 Train accuracy: 1.0 Validation accuracy: 0.928\n",
      "28 Train accuracy: 1.0 Validation accuracy: 0.928\n",
      "29 Train accuracy: 1.0 Validation accuracy: 0.928\n"
     ]
    }
   ],
   "source": [
    "with tf.Session() as sess:\n",
    "    init.run()\n",
    "    #### 이전 레이어 불러오기\n",
    "    restore_saver.restore(sess,\"./Ch11_HW_final.ckpt\") # 여기에서 위에서 선언한 varibale들 다 불러옴.\n",
    "    for epoch in range(n_epochs):\n",
    "        shuffled_idx = np.random.permutation(mnist_train_images_reduced.shape[0])\n",
    "        X_batches = np.array_split(mnist_train_images_reduced[shuffled_idx], n_batches)\n",
    "        Y_batches = np.array_split(mnist_train_labels_reduced[shuffled_idx], n_batches)\n",
    "        batch_index = 0\n",
    "        for X_batch, Y_batch in zip(X_batches, Y_batches):\n",
    "            sess.run(training_op, feed_dict={X:X_batch, Y:Y_batch})\n",
    "            batch_index += 1\n",
    "            loss = cost.eval(feed_dict={X:X_batch, Y:Y_batch}) # iteration 돌릴때 cost=cost.eval(~)f로 하면 중복되어버림 즉 cost가 numpy float으로 선언되어버림\n",
    "            step = epoch * n_batches + batch_index\n",
    "            summary_str = cost_summary.eval(feed_dict={X: X_batch, Y: Y_batch})\n",
    "            file_writer.add_summary(summary_str, step)\n",
    "        acc_train = accuracy.eval(feed_dict={X:X_batch, Y:Y_batch})\n",
    "        acc_val = accuracy.eval(feed_dict={X: mnist_valid_images_reduced, Y:mnist_valid_labels_reduced})\n",
    "        #print (epoch, \"Train accuracy:\", acc_train, \"Cost:\", loss)\n",
    "        print(epoch, \"Train accuracy:\", acc_train, \"Validation accuracy:\", acc_val)\n",
    "    save_path = saver.save(sess, \"./Ch11_HW_final_new.ckpt\")\n",
    "    file_writer.close()"
   ]
  },
  {
   "cell_type": "code",
   "execution_count": 560,
   "metadata": {},
   "outputs": [
    {
     "name": "stdout",
     "output_type": "stream",
     "text": [
      "0 Train accuracy: 0.42 Validation accuracy: 0.438\n",
      "1 Train accuracy: 0.83 Validation accuracy: 0.752\n",
      "2 Train accuracy: 0.89 Validation accuracy: 0.824\n",
      "3 Train accuracy: 0.93 Validation accuracy: 0.838\n",
      "4 Train accuracy: 0.94 Validation accuracy: 0.872\n",
      "5 Train accuracy: 0.98 Validation accuracy: 0.866\n",
      "6 Train accuracy: 1.0 Validation accuracy: 0.892\n",
      "7 Train accuracy: 0.97 Validation accuracy: 0.882\n",
      "8 Train accuracy: 0.98 Validation accuracy: 0.908\n",
      "9 Train accuracy: 1.0 Validation accuracy: 0.866\n",
      "10 Train accuracy: 1.0 Validation accuracy: 0.912\n",
      "11 Train accuracy: 0.97 Validation accuracy: 0.856\n",
      "12 Train accuracy: 1.0 Validation accuracy: 0.9\n",
      "13 Train accuracy: 1.0 Validation accuracy: 0.894\n",
      "14 Train accuracy: 1.0 Validation accuracy: 0.9\n",
      "15 Train accuracy: 1.0 Validation accuracy: 0.902\n",
      "16 Train accuracy: 1.0 Validation accuracy: 0.906\n",
      "17 Train accuracy: 1.0 Validation accuracy: 0.898\n",
      "18 Train accuracy: 1.0 Validation accuracy: 0.902\n",
      "19 Train accuracy: 1.0 Validation accuracy: 0.904\n",
      "20 Train accuracy: 1.0 Validation accuracy: 0.906\n",
      "21 Train accuracy: 1.0 Validation accuracy: 0.904\n",
      "22 Train accuracy: 1.0 Validation accuracy: 0.904\n",
      "23 Train accuracy: 1.0 Validation accuracy: 0.906\n",
      "24 Train accuracy: 1.0 Validation accuracy: 0.904\n",
      "25 Train accuracy: 1.0 Validation accuracy: 0.904\n",
      "26 Train accuracy: 1.0 Validation accuracy: 0.902\n",
      "27 Train accuracy: 1.0 Validation accuracy: 0.902\n",
      "28 Train accuracy: 1.0 Validation accuracy: 0.904\n",
      "29 Train accuracy: 1.0 Validation accuracy: 0.902\n"
     ]
    }
   ],
   "source": [
    "with tf.Session() as sess:\n",
    "    init.run()\n",
    "    #### 이전 레이어 불러오기\n",
    "    #restore_saver.restore(sess,\"./Ch11_HW_final.ckpt\") # 여기에서 위에서 선언한 varibale들 다 불러옴.\n",
    "    for epoch in range(n_epochs):\n",
    "        shuffled_idx = np.random.permutation(mnist_train_images_reduced.shape[0])\n",
    "        X_batches = np.array_split(mnist_train_images_reduced[shuffled_idx], n_batches)\n",
    "        Y_batches = np.array_split(mnist_train_labels_reduced[shuffled_idx], n_batches)\n",
    "        batch_index = 0\n",
    "        for X_batch, Y_batch in zip(X_batches, Y_batches):\n",
    "            sess.run(training_op, feed_dict={X:X_batch, Y:Y_batch})\n",
    "            batch_index += 1\n",
    "            loss = cost.eval(feed_dict={X:X_batch, Y:Y_batch}) # iteration 돌릴때 cost=cost.eval(~)f로 하면 중복되어버림 즉 cost가 numpy float으로 선언되어버림\n",
    "            step = epoch * n_batches + batch_index\n",
    "            summary_str = cost_summary.eval(feed_dict={X: X_batch, Y: Y_batch})\n",
    "            file_writer.add_summary(summary_str, step)\n",
    "        acc_train = accuracy.eval(feed_dict={X:X_batch, Y:Y_batch})\n",
    "        acc_val = accuracy.eval(feed_dict={X: mnist_valid_images_reduced, Y:mnist_valid_labels_reduced})\n",
    "        #print (epoch, \"Train accuracy:\", acc_train, \"Cost:\", loss)\n",
    "        print(epoch, \"Train accuracy:\", acc_train, \"Validation accuracy:\", acc_val)\n",
    "    save_path = saver.save(sess, \"./Ch11_HW_final_new.ckpt\")\n",
    "    file_writer.close()"
   ]
  },
  {
   "cell_type": "code",
   "execution_count": null,
   "metadata": {},
   "outputs": [],
   "source": []
  }
 ],
 "metadata": {
  "kernelspec": {
   "display_name": "Python 3",
   "language": "python",
   "name": "python3"
  },
  "language_info": {
   "codemirror_mode": {
    "name": "ipython",
    "version": 3
   },
   "file_extension": ".py",
   "mimetype": "text/x-python",
   "name": "python",
   "nbconvert_exporter": "python",
   "pygments_lexer": "ipython3",
   "version": "3.6.5"
  }
 },
 "nbformat": 4,
 "nbformat_minor": 2
}
