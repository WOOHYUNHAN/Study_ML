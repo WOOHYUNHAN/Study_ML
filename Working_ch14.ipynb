{
 "cells": [
  {
   "cell_type": "code",
   "execution_count": 14,
   "metadata": {},
   "outputs": [],
   "source": [
    "import tensorflow as tf\n",
    "import numpy as np"
   ]
  },
  {
   "cell_type": "code",
   "execution_count": 2,
   "metadata": {},
   "outputs": [],
   "source": [
    "n_inputs = 3\n",
    "n_neurons = 5"
   ]
  },
  {
   "cell_type": "code",
   "execution_count": 8,
   "metadata": {},
   "outputs": [],
   "source": [
    "tf.reset_default_graph()"
   ]
  },
  {
   "cell_type": "code",
   "execution_count": 9,
   "metadata": {},
   "outputs": [],
   "source": [
    "X0 = tf.placeholder(tf.float32, [None, n_inputs])\n",
    "X1 = tf.placeholder(tf.float32, [None, n_inputs])"
   ]
  },
  {
   "cell_type": "code",
   "execution_count": 12,
   "metadata": {},
   "outputs": [],
   "source": [
    "Wx = tf.Variable(tf.random_normal(shape=[n_inputs, n_neurons], dtype=tf.float32))\n",
    "Wy = tf.Variable(tf.random_normal(shape=[n_neurons, n_neurons], dtype=tf.float32))\n",
    "b = tf.Variable(tf.zeros([1,n_neurons], dtype=tf.float32))"
   ]
  },
  {
   "cell_type": "code",
   "execution_count": 13,
   "metadata": {},
   "outputs": [],
   "source": [
    "Y0 = tf.tanh(tf.matmul(X0, Wx) +b)\n",
    "Y1 = tf.tanh(tf.matmul(Y0, Wy) + tf.matmul(X1,Wx)+b)"
   ]
  },
  {
   "cell_type": "code",
   "execution_count": 17,
   "metadata": {},
   "outputs": [],
   "source": [
    "X0_batch = np.array([[0,1,2],[3,4,5],[6,7,8],[9,0,1]])\n",
    "X1_batch = np.array([[9,8,7],[0,0,0],[6,5,4],[3,2,1]])\n",
    "\n",
    "init = tf.global_variables_initializer()\n"
   ]
  },
  {
   "cell_type": "code",
   "execution_count": 18,
   "metadata": {},
   "outputs": [],
   "source": [
    "with tf.Session() as sess:\n",
    "    init.run()\n",
    "    Y0_val, Y1_val = sess.run([Y0,Y1], feed_dict={X0:X0_batch, X1:X1_batch})\n",
    "    "
   ]
  },
  {
   "cell_type": "code",
   "execution_count": 20,
   "metadata": {},
   "outputs": [
    {
     "name": "stdout",
     "output_type": "stream",
     "text": [
      "[[ 0.8910078  -0.9885529   0.45955032  0.27323604  0.8343172 ]\n",
      " [ 0.9998953  -0.99988145 -0.7369279   0.9938573   0.9999449 ]\n",
      " [ 0.9999999  -0.9999988  -0.98315465  0.99996686  1.        ]\n",
      " [-0.98251593  0.9904305  -0.9999178   0.99994195  0.49901336]]\n"
     ]
    }
   ],
   "source": [
    "print (Y0_val)"
   ]
  },
  {
   "cell_type": "code",
   "execution_count": 21,
   "metadata": {},
   "outputs": [
    {
     "name": "stdout",
     "output_type": "stream",
     "text": [
      "[[ 1.         -0.9725407  -0.999995    1.          1.        ]\n",
      " [ 0.99716276  0.99969333 -0.3703074   0.98419064  0.8090631 ]\n",
      " [ 1.          0.9917064  -0.99833083  0.9999994   0.99999976]\n",
      " [ 0.8334698  -0.75908124  0.9719944  -0.97287387  0.38409355]]\n"
     ]
    }
   ],
   "source": [
    "print (Y1_val)"
   ]
  },
  {
   "cell_type": "markdown",
   "metadata": {},
   "source": [
    "## static_run() 사용해보기"
   ]
  },
  {
   "cell_type": "code",
   "execution_count": 81,
   "metadata": {},
   "outputs": [],
   "source": [
    "tf.reset_default_graph()"
   ]
  },
  {
   "cell_type": "code",
   "execution_count": 43,
   "metadata": {},
   "outputs": [],
   "source": [
    "X0 = tf.placeholder(tf.float32, [None, n_inputs])\n",
    "X1 = tf.placeholder(tf.float32, [None, n_inputs])\n",
    "n_neurons = 5\n"
   ]
  },
  {
   "cell_type": "code",
   "execution_count": 44,
   "metadata": {},
   "outputs": [],
   "source": [
    "basic_cell = tf.contrib.rnn.BasicRNNCell(num_units = n_neurons)"
   ]
  },
  {
   "cell_type": "code",
   "execution_count": 45,
   "metadata": {},
   "outputs": [],
   "source": [
    "output_seqs, states = tf.contrib.rnn.static_rnn(basic_cell, [X0,X1], dtype=tf.float32)\n",
    "Y0, Y1 = output_seqs"
   ]
  },
  {
   "cell_type": "code",
   "execution_count": 46,
   "metadata": {},
   "outputs": [],
   "source": [
    "X0_batch = np.array([[0,1,2],[3,4,5],[6,7,8],[9,0,1]])\n",
    "X1_batch = np.array([[9,8,7],[0,0,0],[6,5,4],[3,2,1]])"
   ]
  },
  {
   "cell_type": "code",
   "execution_count": 47,
   "metadata": {},
   "outputs": [
    {
     "name": "stdout",
     "output_type": "stream",
     "text": [
      "Tensor(\"rnn/basic_rnn_cell/Tanh:0\", shape=(?, 5), dtype=float32) Tensor(\"rnn/basic_rnn_cell/Tanh_1:0\", shape=(?, 5), dtype=float32)\n"
     ]
    }
   ],
   "source": [
    "init = tf.global_variables_initializer()\n",
    "print (Y0, Y1)"
   ]
  },
  {
   "cell_type": "code",
   "execution_count": 53,
   "metadata": {},
   "outputs": [
    {
     "name": "stdout",
     "output_type": "stream",
     "text": [
      "[[-0.7289934   0.99954754 -0.9539271  -0.9702462  -0.64289844]\n",
      " [-0.75630665 -0.05146711  0.71552664 -0.5181595   0.41110557]\n",
      " [-0.6686063   0.9987138  -0.13011807 -0.9271558  -0.35449052]\n",
      " [ 0.57779646  0.96259993 -0.6222822   0.84507054 -0.8208067 ]]\n"
     ]
    }
   ],
   "source": [
    "with tf.Session() as sess:\n",
    "    init.run()\n",
    "    Y0_val, Y1_val = sess.run([Y0, Y1], feed_dict={X0:X0_batch, X1:X1_batch})\n",
    "    print (states.eval(feed_dict={X0:X0_batch, X1:X1_batch}))"
   ]
  },
  {
   "cell_type": "code",
   "execution_count": 54,
   "metadata": {},
   "outputs": [
    {
     "name": "stdout",
     "output_type": "stream",
     "text": [
      "[[ 0.01855774 -0.7089068  -0.31897128 -0.84843844 -0.17564279]\n",
      " [ 0.06038771  0.36906338 -0.81974787 -0.9799339  -0.5776671 ]\n",
      " [ 0.10200659  0.93017143 -0.96270394 -0.99749774 -0.81455725]\n",
      " [-0.99227166  0.9999565  -0.5458697   0.9506582   0.88936394]]\n",
      "[[-0.7289934   0.99954754 -0.9539271  -0.9702462  -0.64289844]\n",
      " [-0.75630665 -0.05146711  0.71552664 -0.5181595   0.41110557]\n",
      " [-0.6686063   0.9987138  -0.13011807 -0.9271558  -0.35449052]\n",
      " [ 0.57779646  0.96259993 -0.6222822   0.84507054 -0.8208067 ]]\n"
     ]
    }
   ],
   "source": [
    "print (Y0_val)\n",
    "print (Y1_val)"
   ]
  },
  {
   "cell_type": "code",
   "execution_count": 82,
   "metadata": {},
   "outputs": [],
   "source": [
    "X_batch = np.array([[[0,1,2],[9,8,7]],[[3,4,5],[0,0,0]],[[6,7,8],[6,5,4]],[[9,0,1],[3,2,1]]])"
   ]
  },
  {
   "cell_type": "code",
   "execution_count": 83,
   "metadata": {},
   "outputs": [],
   "source": [
    "X_seqs = tf.unstack(tf.transpose(X_batch, perm=[1,0,2]))\n",
    "Y_seqs = tf.unstack(tf.transpose(X_seqs, perm=[1,0,2]))\n"
   ]
  },
  {
   "cell_type": "code",
   "execution_count": 84,
   "metadata": {},
   "outputs": [
    {
     "name": "stdout",
     "output_type": "stream",
     "text": [
      "[<tf.Tensor 'unstack:0' shape=(4, 3) dtype=int64>, <tf.Tensor 'unstack:1' shape=(4, 3) dtype=int64>]\n"
     ]
    }
   ],
   "source": [
    "print (X_seqs)"
   ]
  },
  {
   "cell_type": "code",
   "execution_count": 87,
   "metadata": {},
   "outputs": [],
   "source": [
    "init = tf.global_variables_initializer()\n",
    "with tf.Session() as sess:\n",
    "    init.run()\n",
    "    a, b = sess.run([X_seqs, Y_seqs])"
   ]
  },
  {
   "cell_type": "code",
   "execution_count": 88,
   "metadata": {},
   "outputs": [
    {
     "name": "stdout",
     "output_type": "stream",
     "text": [
      "[array([[0, 1, 2],\n",
      "       [9, 8, 7]]), array([[3, 4, 5],\n",
      "       [0, 0, 0]]), array([[6, 7, 8],\n",
      "       [6, 5, 4]]), array([[9, 0, 1],\n",
      "       [3, 2, 1]])]\n"
     ]
    }
   ],
   "source": [
    "print (b)"
   ]
  },
  {
   "cell_type": "markdown",
   "metadata": {},
   "source": [
    "## dynamic_run() 해보기"
   ]
  },
  {
   "cell_type": "markdown",
   "metadata": {},
   "source": [
    "### tranpose, unstack, stack을 사용할 필요가 없다!"
   ]
  },
  {
   "cell_type": "code",
   "execution_count": 125,
   "metadata": {},
   "outputs": [],
   "source": [
    "tf.reset_default_graph()"
   ]
  },
  {
   "cell_type": "code",
   "execution_count": 126,
   "metadata": {},
   "outputs": [],
   "source": [
    "n_steps = 2\n",
    "n_inputs = 3\n",
    "n_neurons = 5\n",
    "X = tf.placeholder(tf.float32, [None, n_steps, n_inputs])\n",
    "seq_length = tf.placeholder(tf.int32, [None])"
   ]
  },
  {
   "cell_type": "code",
   "execution_count": 128,
   "metadata": {},
   "outputs": [],
   "source": [
    "X_batch2 = np.array([[[0,1,2],[9,8,7]],[[3,4,5],[0,0,0]],[[6,7,8],[6,5,4]],[[9,0,1],[3,2,1]]])\n",
    "seq_length_batch = np.array([2,1,2,2])"
   ]
  },
  {
   "cell_type": "code",
   "execution_count": 129,
   "metadata": {},
   "outputs": [],
   "source": [
    "basic_cell = tf.contrib.rnn.BasicRNNCell(num_units=n_neurons)"
   ]
  },
  {
   "cell_type": "code",
   "execution_count": 130,
   "metadata": {},
   "outputs": [],
   "source": [
    "outputs, states = tf.nn.dynamic_rnn(basic_cell, X, dtype=tf.float32, sequence_length=seq_length)"
   ]
  },
  {
   "cell_type": "code",
   "execution_count": 131,
   "metadata": {},
   "outputs": [],
   "source": [
    "init = tf.global_variables_initializer()"
   ]
  },
  {
   "cell_type": "code",
   "execution_count": 133,
   "metadata": {},
   "outputs": [],
   "source": [
    "with tf.Session() as sess:\n",
    "    init.run()\n",
    "    Y0_val, Y1_val = sess.run([outputs, states], feed_dict={X:X_batch, seq_length: seq_length_batch})\n"
   ]
  },
  {
   "cell_type": "code",
   "execution_count": 134,
   "metadata": {},
   "outputs": [
    {
     "name": "stdout",
     "output_type": "stream",
     "text": [
      "[[[ 0.67132187 -0.37095284  0.09636954  0.82478195  0.77513784]\n",
      "  [ 0.9999799  -0.9999988   0.03763447  1.         -0.9490912 ]]\n",
      "\n",
      " [[ 0.99412936 -0.99121004  0.25335354  0.999805    0.5588877 ]\n",
      "  [ 0.          0.          0.          0.          0.        ]]\n",
      "\n",
      " [[ 0.9999119  -0.99991506  0.39803922  0.9999998   0.22541673]\n",
      "  [ 0.9975212  -0.9999273   0.59371746  0.9998335  -0.9827422 ]]\n",
      "\n",
      " [[-0.11396885 -0.9823925   0.9880125   0.9995934  -0.99979264]\n",
      "  [ 0.77705324 -0.9949735   0.5951807   0.960326   -0.9845893 ]]]\n"
     ]
    }
   ],
   "source": [
    "print (Y0_val)"
   ]
  },
  {
   "cell_type": "code",
   "execution_count": 135,
   "metadata": {},
   "outputs": [
    {
     "name": "stdout",
     "output_type": "stream",
     "text": [
      "[[ 0.9999799  -0.9999988   0.03763447  1.         -0.9490912 ]\n",
      " [ 0.99412936 -0.99121004  0.25335354  0.999805    0.5588877 ]\n",
      " [ 0.9975212  -0.9999273   0.59371746  0.9998335  -0.9827422 ]\n",
      " [ 0.77705324 -0.9949735   0.5951807   0.960326   -0.9845893 ]]\n"
     ]
    }
   ],
   "source": [
    "print (Y1_val)"
   ]
  },
  {
   "cell_type": "markdown",
   "metadata": {},
   "source": [
    "## RNN 훈련해보기"
   ]
  },
  {
   "cell_type": "markdown",
   "metadata": {},
   "source": [
    "### MNIST 짜보기"
   ]
  },
  {
   "cell_type": "code",
   "execution_count": 201,
   "metadata": {},
   "outputs": [],
   "source": [
    "tf.reset_default_graph()"
   ]
  },
  {
   "cell_type": "code",
   "execution_count": 202,
   "metadata": {},
   "outputs": [],
   "source": [
    "from datetime import datetime\n",
    "now = datetime.utcnow().strftime(\"%Y%m%d%H%M%S\")\n",
    "root_logdir = \"tf_logs_ch14\"\n",
    "logdir = \"{}/run-{}/\".format(root_logdir, now)"
   ]
  },
  {
   "cell_type": "code",
   "execution_count": 203,
   "metadata": {},
   "outputs": [],
   "source": [
    "## parameter summary\n",
    "n_steps = 28\n",
    "n_inputs = 28\n",
    "n_neurons = 150\n",
    "n_outputs = 10\n",
    "\n",
    "learning_rate = 0.001"
   ]
  },
  {
   "cell_type": "code",
   "execution_count": 204,
   "metadata": {},
   "outputs": [],
   "source": [
    "X = tf.placeholder(tf.float32, [None, n_steps, n_inputs])\n",
    "Y = tf.placeholder(tf.int32, [None])\n",
    "training = tf.placeholder_with_default(False, shape=(), name=\"training\")"
   ]
  },
  {
   "cell_type": "code",
   "execution_count": 205,
   "metadata": {},
   "outputs": [],
   "source": [
    "with tf.variable_scope(\"RNN\", initializer=tf.contrib.layers.variance_scaling_initializer()):\n",
    "    basic_cell = tf.contrib.rnn.BasicRNNCell(num_units=n_neurons)\n",
    "    basic_cell_dropout = tf.contrib.rnn.DropoutWrapper(basic_cell, 0.5, training) # 드롭아웃레퍼로 감싼부분\n",
    "    outputs, states = tf.nn.dynamic_rnn(basic_cell, X, dtype=tf.float32)\n",
    "    logits = tf.layers.dense(states, n_outputs)"
   ]
  },
  {
   "cell_type": "code",
   "execution_count": 206,
   "metadata": {},
   "outputs": [
    {
     "name": "stdout",
     "output_type": "stream",
     "text": [
      "Extracting MNIST/train-images-idx3-ubyte.gz\n",
      "Extracting MNIST/train-labels-idx1-ubyte.gz\n",
      "Extracting MNIST/t10k-images-idx3-ubyte.gz\n",
      "Extracting MNIST/t10k-labels-idx1-ubyte.gz\n"
     ]
    }
   ],
   "source": [
    "import tensorflow.examples.tutorials.mnist.input_data as input_data\n",
    "mnist=input_data.read_data_sets(\"MNIST\")"
   ]
  },
  {
   "cell_type": "code",
   "execution_count": 207,
   "metadata": {},
   "outputs": [],
   "source": [
    "mnist_train_images_reduced = mnist.train.images\n",
    "mnist_train_labels_reduced = mnist.train.labels\n",
    "mnist_valid_images_reduced = mnist.validation.images\n",
    "mnist_valid_labels_reduced = mnist.validation.labels"
   ]
  },
  {
   "cell_type": "code",
   "execution_count": 208,
   "metadata": {},
   "outputs": [],
   "source": [
    "with tf.name_scope(\"loss\"):\n",
    "    xentropy = tf.nn.sparse_softmax_cross_entropy_with_logits(labels=Y, logits=logits)\n",
    "    loss = tf.reduce_mean(xentropy)"
   ]
  },
  {
   "cell_type": "code",
   "execution_count": 209,
   "metadata": {},
   "outputs": [],
   "source": [
    "with tf.name_scope(\"train\"):\n",
    "    optimizer = tf.train.AdamOptimizer(learning_rate=learning_rate)\n",
    "    training_op = optimizer.minimize(loss)"
   ]
  },
  {
   "cell_type": "code",
   "execution_count": 210,
   "metadata": {},
   "outputs": [],
   "source": [
    "with tf.name_scope(\"eval\"):\n",
    "    correct = tf.nn.in_top_k(logits, Y, 1)\n",
    "    accuracy = tf.reduce_mean(tf.cast(correct, tf.float32))"
   ]
  },
  {
   "cell_type": "code",
   "execution_count": 211,
   "metadata": {},
   "outputs": [],
   "source": [
    "init = tf.global_variables_initializer()"
   ]
  },
  {
   "cell_type": "code",
   "execution_count": 212,
   "metadata": {},
   "outputs": [],
   "source": [
    "X_test = mnist.test.images.reshape((-1, n_steps, n_inputs))\n",
    "Y_test = mnist.test.labels"
   ]
  },
  {
   "cell_type": "code",
   "execution_count": 214,
   "metadata": {},
   "outputs": [
    {
     "name": "stdout",
     "output_type": "stream",
     "text": [
      "0 acc train:  0.92 acc test 0.9088\n",
      "1 acc train:  0.97333336 acc test 0.9543\n",
      "2 acc train:  0.96 acc test 0.95\n",
      "3 acc train:  0.96 acc test 0.9545\n",
      "4 acc train:  0.96 acc test 0.9685\n",
      "5 acc train:  0.98 acc test 0.9659\n",
      "6 acc train:  0.98 acc test 0.9685\n",
      "7 acc train:  0.98 acc test 0.9697\n",
      "8 acc train:  0.9866667 acc test 0.9663\n",
      "9 acc train:  0.96666664 acc test 0.9689\n",
      "10 acc train:  0.99333334 acc test 0.9644\n",
      "11 acc train:  0.9866667 acc test 0.9727\n",
      "12 acc train:  0.9866667 acc test 0.9741\n",
      "13 acc train:  0.98 acc test 0.9666\n",
      "14 acc train:  0.98 acc test 0.9723\n",
      "15 acc train:  0.99333334 acc test 0.9657\n",
      "16 acc train:  0.98 acc test 0.9722\n",
      "17 acc train:  0.9866667 acc test 0.9661\n",
      "18 acc train:  0.98 acc test 0.9741\n",
      "19 acc train:  0.98 acc test 0.9733\n",
      "20 acc train:  0.98 acc test 0.9738\n",
      "21 acc train:  0.98 acc test 0.9766\n",
      "22 acc train:  0.99333334 acc test 0.9728\n",
      "23 acc train:  0.9866667 acc test 0.9741\n",
      "24 acc train:  0.9866667 acc test 0.9758\n",
      "25 acc train:  0.99333334 acc test 0.973\n",
      "26 acc train:  0.9866667 acc test 0.9701\n",
      "27 acc train:  1.0 acc test 0.9783\n",
      "28 acc train:  0.9866667 acc test 0.9731\n",
      "29 acc train:  1.0 acc test 0.9725\n",
      "30 acc train:  0.9866667 acc test 0.9771\n",
      "31 acc train:  0.9866667 acc test 0.9784\n",
      "32 acc train:  1.0 acc test 0.9772\n",
      "33 acc train:  0.97333336 acc test 0.9762\n",
      "34 acc train:  0.9866667 acc test 0.9715\n",
      "35 acc train:  0.99333334 acc test 0.9749\n",
      "36 acc train:  0.97333336 acc test 0.9786\n",
      "37 acc train:  0.99333334 acc test 0.9741\n",
      "38 acc train:  0.99333334 acc test 0.9687\n",
      "39 acc train:  1.0 acc test 0.9767\n",
      "40 acc train:  0.99333334 acc test 0.9725\n",
      "41 acc train:  1.0 acc test 0.9774\n",
      "42 acc train:  1.0 acc test 0.9779\n",
      "43 acc train:  0.99333334 acc test 0.9722\n",
      "44 acc train:  0.9866667 acc test 0.9767\n",
      "45 acc train:  1.0 acc test 0.9767\n",
      "46 acc train:  0.99333334 acc test 0.9747\n",
      "47 acc train:  1.0 acc test 0.9766\n",
      "48 acc train:  0.99333334 acc test 0.9795\n",
      "49 acc train:  1.0 acc test 0.9748\n",
      "50 acc train:  0.99333334 acc test 0.9766\n",
      "51 acc train:  0.99333334 acc test 0.9749\n",
      "52 acc train:  1.0 acc test 0.9779\n",
      "53 acc train:  0.9866667 acc test 0.9735\n",
      "54 acc train:  0.99333334 acc test 0.9767\n",
      "55 acc train:  0.99333334 acc test 0.9773\n",
      "56 acc train:  0.99333334 acc test 0.973\n",
      "57 acc train:  0.98 acc test 0.9763\n",
      "58 acc train:  0.9866667 acc test 0.9767\n",
      "59 acc train:  1.0 acc test 0.9784\n",
      "60 acc train:  0.99333334 acc test 0.9707\n",
      "61 acc train:  0.99333334 acc test 0.9749\n",
      "62 acc train:  0.9866667 acc test 0.978\n",
      "63 acc train:  0.99333334 acc test 0.9764\n",
      "64 acc train:  1.0 acc test 0.9726\n",
      "65 acc train:  0.99333334 acc test 0.9752\n",
      "66 acc train:  0.99333334 acc test 0.9779\n",
      "67 acc train:  0.99333334 acc test 0.9722\n",
      "68 acc train:  1.0 acc test 0.9775\n",
      "69 acc train:  0.97333336 acc test 0.9759\n",
      "70 acc train:  1.0 acc test 0.9792\n",
      "71 acc train:  0.99333334 acc test 0.9756\n",
      "72 acc train:  1.0 acc test 0.9773\n",
      "73 acc train:  1.0 acc test 0.9745\n",
      "74 acc train:  0.99333334 acc test 0.9726\n",
      "75 acc train:  0.99333334 acc test 0.9753\n",
      "76 acc train:  0.98 acc test 0.9742\n",
      "77 acc train:  1.0 acc test 0.9744\n",
      "78 acc train:  0.9866667 acc test 0.9746\n",
      "79 acc train:  0.99333334 acc test 0.9761\n",
      "80 acc train:  0.99333334 acc test 0.9802\n",
      "81 acc train:  1.0 acc test 0.9762\n",
      "82 acc train:  1.0 acc test 0.9794\n",
      "83 acc train:  1.0 acc test 0.9748\n",
      "84 acc train:  1.0 acc test 0.9763\n",
      "85 acc train:  0.99333334 acc test 0.9733\n",
      "86 acc train:  1.0 acc test 0.9764\n",
      "87 acc train:  0.99333334 acc test 0.9786\n",
      "88 acc train:  0.96666664 acc test 0.9749\n",
      "89 acc train:  0.9866667 acc test 0.9757\n",
      "90 acc train:  0.99333334 acc test 0.976\n",
      "91 acc train:  0.99333334 acc test 0.978\n",
      "92 acc train:  0.97333336 acc test 0.9754\n",
      "93 acc train:  0.97333336 acc test 0.9754\n",
      "94 acc train:  0.99333334 acc test 0.9771\n",
      "95 acc train:  0.9866667 acc test 0.9726\n",
      "96 acc train:  0.9866667 acc test 0.9769\n",
      "97 acc train:  1.0 acc test 0.9755\n",
      "98 acc train:  0.9866667 acc test 0.9678\n",
      "99 acc train:  1.0 acc test 0.974\n"
     ]
    }
   ],
   "source": [
    "n_epochs = 100\n",
    "batch_size = 150\n",
    "\n",
    "with tf.Session() as sess:\n",
    "    init.run()\n",
    "    for epoch in range(n_epochs):\n",
    "        for iteration in range(mnist_train_images_reduced.shape[0] // batch_size):\n",
    "            X_batch , Y_batch = mnist.train.next_batch(batch_size)\n",
    "            X_batch = X_batch.reshape((-1, n_steps, n_inputs))\n",
    "            sess.run(training_op, feed_dict={X:X_batch, Y:Y_batch, training:True})\n",
    "        acc_train = accuracy.eval(feed_dict={X:X_batch, Y:Y_batch})\n",
    "        acc_test = accuracy.eval(feed_dict={X:X_test, Y:Y_test})\n",
    "        print (epoch, \"acc train: \", acc_train, \"acc test\", acc_test)"
   ]
  },
  {
   "cell_type": "markdown",
   "metadata": {},
   "source": [
    "## 시계열 예측을 위해 훈련해보기"
   ]
  },
  {
   "cell_type": "code",
   "execution_count": 1,
   "metadata": {},
   "outputs": [
    {
     "name": "stderr",
     "output_type": "stream",
     "text": [
      "/Users/woohyunhan/anaconda3/lib/python3.6/site-packages/h5py/__init__.py:36: FutureWarning: Conversion of the second argument of issubdtype from `float` to `np.floating` is deprecated. In future, it will be treated as `np.float64 == np.dtype(float).type`.\n",
      "  from ._conv import register_converters as _register_converters\n"
     ]
    }
   ],
   "source": [
    "import tensorflow as tf"
   ]
  },
  {
   "cell_type": "code",
   "execution_count": 2,
   "metadata": {},
   "outputs": [],
   "source": [
    "import numpy as np"
   ]
  },
  {
   "cell_type": "code",
   "execution_count": 58,
   "metadata": {},
   "outputs": [],
   "source": [
    "n_steps = 20\n",
    "n_inputs = 1\n",
    "n_neurons = 100\n",
    "n_outputs = 1\n",
    "\n",
    "n_layers = 3"
   ]
  },
  {
   "cell_type": "code",
   "execution_count": 75,
   "metadata": {},
   "outputs": [],
   "source": [
    "tf.reset_default_graph()"
   ]
  },
  {
   "cell_type": "code",
   "execution_count": 76,
   "metadata": {},
   "outputs": [],
   "source": [
    "X = tf.placeholder(tf.float32, [None, n_steps, n_inputs])\n",
    "Y = tf.placeholder(tf.float32, [None, n_steps, n_outputs])"
   ]
  },
  {
   "cell_type": "code",
   "execution_count": 77,
   "metadata": {},
   "outputs": [],
   "source": [
    "#with tf.variable_scope(\"RNN\", initializer=tf.contrib.layers.variance_scaling_initializer()):\n",
    "#    cell =  tf.contrib.rnn.BasicRNNCell(num_units=n_neurons, activation=tf.nn.relu)\n",
    "#    rnn_outputs, states = tf.nn.dynamic_rnn(cell, X, dtype=tf.float32)\n",
    "#    stacked_rnn_outputs = tf.reshape(rnn_outputs, [-1, n_neurons])\n",
    "#    stacked_outputs = tf.layers.dense(stacked_rnn_outputs, n_outputs)\n",
    "#    outputs = tf.reshape(stacked_outputs, [-1, n_steps, n_outputs])"
   ]
  },
  {
   "cell_type": "code",
   "execution_count": 78,
   "metadata": {},
   "outputs": [],
   "source": [
    "#with tf.variable_scope(\"RNN\", initializer=tf.contrib.layers.variance_scaling_initializer()):\n",
    "#    cell = tf.contrib.rnn.OutputProjectionWrapper(tf.contrib.rnn.BasicRNNCell(num_units=n_neurons, activation=tf.nn.relu), output_size=n_outputs)\n",
    "#    outputs, states = tf.nn.dynamic_rnn(cell, X, dtype=tf.float32)"
   ]
  },
  {
   "cell_type": "code",
   "execution_count": 79,
   "metadata": {},
   "outputs": [],
   "source": [
    "with tf.variable_scope(\"RNN\", initializer=tf.contrib.layers.variance_scaling_initializer()):\n",
    "    layers = [tf.contrib.rnn.BasicRNNCell(num_units=n_neurons, activation=tf.nn.relu) for layer in range(n_layers)]\n",
    "    multi_layer_cell = tf.contrib.rnn.MultiRNNCell(layers)\n",
    "    multi_layer_cell_wrap = tf.contrib.rnn.OutputProjectionWrapper(multi_layer_cell, output_size=n_outputs)\n",
    "    outputs, states = tf.nn.dynamic_rnn(multi_layer_cell_wrap, X, dtype=tf.float32)\n"
   ]
  },
  {
   "cell_type": "code",
   "execution_count": 80,
   "metadata": {},
   "outputs": [],
   "source": [
    "learning_rate = 0.01\n",
    "\n",
    "loss = tf.reduce_mean(tf.square(outputs-Y))\n",
    "optimizer = tf.train.AdamOptimizer(learning_rate=learning_rate)\n",
    "training_op = optimizer.minimize(loss)"
   ]
  },
  {
   "cell_type": "code",
   "execution_count": 81,
   "metadata": {},
   "outputs": [],
   "source": [
    "init = tf.global_variables_initializer()\n",
    "saver = tf.train.Saver()"
   ]
  },
  {
   "cell_type": "code",
   "execution_count": 82,
   "metadata": {},
   "outputs": [],
   "source": [
    "# 랜덤한 시계열 데이터를 만들어야함.\n",
    "n_sample = 400\n",
    "n_timestep = 1000\n",
    "n_length = n_steps\n",
    "time = np.linspace(0,30,n_timestep)\n",
    "value_time = time*np.sin(time) /3.0 + 2.0*np.sin(5*time)\n",
    "time_random_choice_index = np.sort(np.random.choice(np.arange(n_timestep-n_length-1), n_sample)) # 왜 n_timestep - n_sample -1 을 했을까?\n",
    "#print (np.sort(time_random_choice_index)) \n",
    "#print (np.arange(n_timestep-n_sample))"
   ]
  },
  {
   "cell_type": "code",
   "execution_count": 83,
   "metadata": {},
   "outputs": [],
   "source": [
    "%matplotlib inline"
   ]
  },
  {
   "cell_type": "code",
   "execution_count": 84,
   "metadata": {},
   "outputs": [],
   "source": [
    "import matplotlib.pyplot as plt"
   ]
  },
  {
   "cell_type": "code",
   "execution_count": 85,
   "metadata": {},
   "outputs": [
    {
     "data": {
      "text/plain": [
       "[<matplotlib.lines.Line2D at 0x1c2ff1c9b0>]"
      ]
     },
     "execution_count": 85,
     "metadata": {},
     "output_type": "execute_result"
    },
    {
     "data": {
      "image/png": "[encoded data removed]",
      "text/plain": [
       "<Figure size 432x288 with 1 Axes>"
      ]
     },
     "metadata": {},
     "output_type": "display_data"
    }
   ],
   "source": [
    "plt.plot(time, value_time)"
   ]
  },
  {
   "cell_type": "code",
   "execution_count": 86,
   "metadata": {},
   "outputs": [],
   "source": [
    "X_train = []\n",
    "Y_train = []\n",
    "for i in range(n_sample):\n",
    "    index = time_random_choice_index[i]\n",
    "    random_chosen_time = time[index: index+n_length]\n",
    "    one_step_forward = time[index+1: index+1+n_length]\n",
    "    #X_train.append(random_chosen_time.reshape(-1,1)) # 이거 아님\n",
    "    value_original = random_chosen_time*np.sin(random_chosen_time) /3.0 + 2.0*np.sin(5*random_chosen_time)\n",
    "    value = one_step_forward*np.sin(one_step_forward) /3.0 + 2.0*np.sin(5*one_step_forward)\n",
    "    X_train.append(value_original.reshape(-1,1))\n",
    "    Y_train.append(value.reshape(-1,1))\n",
    "X_train = np.array(X_train)\n",
    "Y_train = np.array(Y_train)"
   ]
  },
  {
   "cell_type": "code",
   "execution_count": 87,
   "metadata": {},
   "outputs": [
    {
     "data": {
      "text/plain": [
       "[<matplotlib.lines.Line2D at 0x1c2ffc5a90>]"
      ]
     },
     "execution_count": 87,
     "metadata": {},
     "output_type": "execute_result"
    },
    {
     "data": {
      "image/png": "[encoded data removed]",
      "text/plain": [
       "<Figure size 432x288 with 1 Axes>"
      ]
     },
     "metadata": {},
     "output_type": "display_data"
    }
   ],
   "source": [
    "plt.plot(random_chosen_time, value_original, 'k.')\n",
    "plt.plot(one_step_forward, value, 'r.')"
   ]
  },
  {
   "cell_type": "code",
   "execution_count": 88,
   "metadata": {},
   "outputs": [
    {
     "data": {
      "text/plain": [
       "[<matplotlib.lines.Line2D at 0x1c2ffc5ef0>]"
      ]
     },
     "execution_count": 88,
     "metadata": {},
     "output_type": "execute_result"
    },
    {
     "data": {
      "image/png": "[encoded data removed]",
      "text/plain": [
       "<Figure size 432x288 with 1 Axes>"
      ]
     },
     "metadata": {},
     "output_type": "display_data"
    }
   ],
   "source": [
    "plt.plot(random_chosen_time, value_original, 'k.')\n",
    "plt.plot(one_step_forward, Y_train[n_sample-1].reshape(-1), 'r.')"
   ]
  },
  {
   "cell_type": "code",
   "execution_count": 89,
   "metadata": {},
   "outputs": [
    {
     "name": "stdout",
     "output_type": "stream",
     "text": [
      "8\n",
      "0 \t MSE 1.5316701\n",
      "100 \t MSE 0.0028756198\n",
      "200 \t MSE 0.0042377864\n",
      "300 \t MSE 0.0039476245\n",
      "400 \t MSE 0.004565317\n",
      "500 \t MSE 0.0032812962\n",
      "600 \t MSE 0.004556116\n",
      "700 \t MSE 0.0030035835\n",
      "800 \t MSE 0.14869058\n",
      "900 \t MSE 0.0035463383\n",
      "1000 \t MSE 0.036079224\n",
      "1100 \t MSE 0.0038051442\n",
      "1200 \t MSE 0.0026999197\n",
      "1300 \t MSE 0.004214524\n",
      "1400 \t MSE 0.0036199586\n"
     ]
    }
   ],
   "source": [
    "n_iterations = 1500\n",
    "batch_size = 50\n",
    "n_batches = X_train.shape[0] // batch_size\n",
    "print (n_batches)\n",
    "\n",
    "with tf.Session() as sess:\n",
    "    init.run()\n",
    "    for iteration in range(n_iterations):\n",
    "        shuffled_idx = np.random.permutation(X_train.shape[0])\n",
    "        X_batches = np.array_split(X_train[shuffled_idx], n_batches)\n",
    "        Y_batches = np.array_split(Y_train[shuffled_idx], n_batches)\n",
    "        for X_batch, Y_batch in zip(X_batches, Y_batches):\n",
    "            sess.run(training_op, feed_dict={X:X_batch, Y:Y_batch})\n",
    "        if iteration % 100 == 0:\n",
    "            mse = loss.eval(feed_dict={X:X_batch, Y:Y_batch})\n",
    "            print (iteration, \"\\t MSE\", mse)\n",
    "    save_path = saver.save(sess, \"./Ch14_RNN_test_final.ckpt\")"
   ]
  },
  {
   "cell_type": "code",
   "execution_count": 90,
   "metadata": {},
   "outputs": [
    {
     "name": "stdout",
     "output_type": "stream",
     "text": [
      "INFO:tensorflow:Restoring parameters from ./Ch14_RNN_test_final.ckpt\n",
      "[21.23123123 21.26126126 21.29129129 21.32132132 21.35135135 21.38138138\n",
      " 21.41141141 21.44144144 21.47147147 21.5015015  21.53153153 21.56156156\n",
      " 21.59159159 21.62162162 21.65165165 21.68168168 21.71171171 21.74174174\n",
      " 21.77177177 21.8018018 ]\n",
      "[3.75297923 3.87107094 4.00033783 4.13442832 4.26678658 4.39080301\n",
      " 4.49996604 4.58801176 4.64906812 4.67779038 4.66948476 4.62021753\n",
      " 4.52690713 4.38739705 4.20050811 3.96606874 3.68492267 3.35891379\n",
      " 2.99084866 2.58443728]\n",
      "[3.5784936 3.8300536 4.00266   4.1256967 4.254479  4.385323  4.4880266\n",
      " 4.5769906 4.6447086 4.6761117 4.6674433 4.619376  4.5256968 4.3814597\n",
      " 4.195013  3.9620075 3.6828425 3.3592434 2.994313  2.5909505]\n"
     ]
    }
   ],
   "source": [
    "#훈련된거 예측해보기\n",
    "with tf.Session() as sess:\n",
    "    saver.restore(sess, \"./Ch14_RNN_test_final.ckpt\")\n",
    "    rnd_index = np.random.choice(np.arange(n_timestep-n_length-1), 1)[0]\n",
    "    #print (rnd_index)\n",
    "    X_new = np.array(time[rnd_index: rnd_index+n_length])\n",
    "    Y_new = X_new*np.sin(X_new) /3.0 + 2.0*np.sin(5*X_new)\n",
    "    X_batch = np.array([Y_new.reshape(-1,1)])\n",
    "    X_new_plus = np.array(time[rnd_index+1: rnd_index+1+n_length])\n",
    "    Y_new_plus = X_new_plus*np.sin(X_new_plus) /3.0 + 2.0*np.sin(5*X_new_plus)\n",
    "    Y_pred = sess.run(outputs, feed_dict={X: X_batch})\n",
    "    Y_pred_new = Y_pred[0].reshape(-1)\n",
    "    print (X_new)\n",
    "    print (Y_new_plus)\n",
    "    print (Y_pred_new)"
   ]
  },
  {
   "cell_type": "code",
   "execution_count": 91,
   "metadata": {},
   "outputs": [
    {
     "data": {
      "text/plain": [
       "(-10, 10)"
      ]
     },
     "execution_count": 91,
     "metadata": {},
     "output_type": "execute_result"
    },
    {
     "data": {
      "image/png": "[encoded data removed]",
      "text/plain": [
       "<Figure size 432x288 with 1 Axes>"
      ]
     },
     "metadata": {},
     "output_type": "display_data"
    }
   ],
   "source": [
    "plt.plot(X_new, Y_new_plus)\n",
    "plt.plot(X_new_plus, Y_pred_new)\n",
    "plt.ylim([-10,10])"
   ]
  },
  {
   "cell_type": "markdown",
   "metadata": {},
   "source": [
    "## 창조적인 RNN만들기"
   ]
  },
  {
   "cell_type": "code",
   "execution_count": 92,
   "metadata": {},
   "outputs": [
    {
     "name": "stdout",
     "output_type": "stream",
     "text": [
      "INFO:tensorflow:Restoring parameters from ./Ch14_RNN_test_final.ckpt\n"
     ]
    }
   ],
   "source": [
    "#훈련된거 예측해보기\n",
    "sequence = [0.] * n_steps\n",
    "with tf.Session() as sess:\n",
    "    saver.restore(sess, \"./Ch14_RNN_test_final.ckpt\")\n",
    "    for iteration in range(300):\n",
    "        X_batch = np.array(sequence[-n_steps:]).reshape(1, n_steps, 1)\n",
    "        y_pred = sess.run(outputs, feed_dict={X: X_batch})\n",
    "        sequence.append(y_pred[0,-1,0])"
   ]
  },
  {
   "cell_type": "code",
   "execution_count": 93,
   "metadata": {},
   "outputs": [
    {
     "data": {
      "text/plain": [
       "[<matplotlib.lines.Line2D at 0x1c30365320>]"
      ]
     },
     "execution_count": 93,
     "metadata": {},
     "output_type": "execute_result"
    },
    {
     "data": {
      "image/png": "[encoded data removed]",
      "text/plain": [
       "<Figure size 432x288 with 1 Axes>"
      ]
     },
     "metadata": {},
     "output_type": "display_data"
    }
   ],
   "source": [
    "plt.plot(np.arange(len(sequence)), sequence)"
   ]
  },
  {
   "cell_type": "code",
   "execution_count": null,
   "metadata": {},
   "outputs": [],
   "source": []
  }
 ],
 "metadata": {
  "kernelspec": {
   "display_name": "Python 3",
   "language": "python",
   "name": "python3"
  },
  "language_info": {
   "codemirror_mode": {
    "name": "ipython",
    "version": 3
   },
   "file_extension": ".py",
   "mimetype": "text/x-python",
   "name": "python",
   "nbconvert_exporter": "python",
   "pygments_lexer": "ipython3",
   "version": "3.6.5"
  }
 },
 "nbformat": 4,
 "nbformat_minor": 2
}
