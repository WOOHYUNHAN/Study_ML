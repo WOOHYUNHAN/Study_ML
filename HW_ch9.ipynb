{
 "cells": [
  {
   "cell_type": "code",
   "execution_count": 28,
   "metadata": {},
   "outputs": [],
   "source": [
    "import tensorflow as tf\n",
    "import numpy as np\n",
    "from sklearn.preprocessing import StandardScaler\n",
    "from sklearn.datasets import make_moons"
   ]
  },
  {
   "cell_type": "code",
   "execution_count": 38,
   "metadata": {},
   "outputs": [],
   "source": [
    "moons_data, moons_target = make_moons(n_samples=10000, noise=0.15, random_state=42)\n",
    "m, n = moons_data.shape"
   ]
  },
  {
   "cell_type": "code",
   "execution_count": 39,
   "metadata": {},
   "outputs": [
    {
     "name": "stdout",
     "output_type": "stream",
     "text": [
      "(10000, 2) (10000,)\n"
     ]
    }
   ],
   "source": [
    "print (moons_data.shape, moons_target.shape)"
   ]
  },
  {
   "cell_type": "code",
   "execution_count": 40,
   "metadata": {},
   "outputs": [
    {
     "name": "stdout",
     "output_type": "stream",
     "text": [
      "float32\n"
     ]
    }
   ],
   "source": [
    "scaler = StandardScaler()\n",
    "moons_data_plus_bias = np.c_[np.ones((m,1)), moons_data]\n",
    "scaled_moons_data_plus_bias = np.float32(scaler.fit_transform(moons_data_plus_bias))\n",
    "moons_target_reshape = np.float32(moons_target.reshape(-1, 1))\n",
    "print (scaled_moons_data_plus_bias.dtype)\n",
    "#print (moons_target_reshape)\n",
    "#print (scaled_moons_data_plus_bias)"
   ]
  },
  {
   "cell_type": "code",
   "execution_count": 41,
   "metadata": {},
   "outputs": [],
   "source": [
    "# control main hyper parameters\n",
    "batch_size = 1000\n",
    "n_batches = int(np.ceil(m/batch_size))\n",
    "remainings = int(m%batch_size)\n",
    "learning_rate = 0.01\n",
    "n_epochs = 1000"
   ]
  },
  {
   "cell_type": "code",
   "execution_count": 42,
   "metadata": {},
   "outputs": [],
   "source": [
    "def logistic_regression(theta, input_data):\n",
    "    t = tf.matmul(input_data, theta)\n",
    "    prob = 1.0 / (1.0 + tf.exp(-t))\n",
    "    #index_true = np.where((prob >= 0.5) == True)\n",
    "    #print (input_data.shape[0]) # This statement causes error! Think about it why?\n",
    "    #prediction = np.zeros(input_data.shape[0])\n",
    "    #for i in index_true:\n",
    "    #    prediction[i] = 1\n",
    "    return prob# form of array"
   ]
  },
  {
   "cell_type": "markdown",
   "metadata": {},
   "source": [
    "여기에 왜 에러 생겼나 생각해보기"
   ]
  },
  {
   "cell_type": "code",
   "execution_count": 43,
   "metadata": {},
   "outputs": [],
   "source": [
    "def fetch_batch(epoch, batch_index, batch_size, original_data_X, original_data_Y):\n",
    "    if batch_index == n_batches - 1:\n",
    "        initial = batch_index * batch_size ; final = initial + remainings\n",
    "    else:\n",
    "        initial = batch_index * batch_size ; final = initial + batch_size        \n",
    "    X_batch = original_data_X[initial:final,:]\n",
    "    Y_batch = original_data_Y[initial:final,:]\n",
    "    return X_batch, Y_batch"
   ]
  },
  {
   "cell_type": "code",
   "execution_count": 63,
   "metadata": {},
   "outputs": [],
   "source": [
    "from datetime import datetime\n",
    "now = datetime.utcnow().strftime(\"%Y%m%d%H%M%S\")\n",
    "root_logdir = \"tf_logs_HW9\"\n",
    "logdir = \"{}/run-{}/\".format(root_logdir, now)\n",
    "tf.reset_default_graph()"
   ]
  },
  {
   "cell_type": "code",
   "execution_count": 64,
   "metadata": {},
   "outputs": [],
   "source": [
    "original_data_X = tf.constant(scaled_moons_data_plus_bias, dtype = tf.float32,  name=\"orig_X\")\n",
    "original_data_Y = tf.constant(moons_target_reshape, dtype = tf.float32,  name=\"orig_Y\")\n",
    "X = tf.placeholder(tf.float32, shape=(None, n+1), name=\"X\")\n",
    "Y = tf.placeholder(tf.float32, shape=(None, 1), name=\"Y\")\n",
    "theta = tf.Variable(tf.random_uniform([n+1, 1], -1.0, 1.0), name=\"theta\")\n",
    "with tf.name_scope(\"loss\") as scope:\n",
    "    error_one = -1.0* (Y * tf.log(logistic_regression(theta, X)) + (1.0-Y)*tf.log(1.0 - logistic_regression(theta, X)))\n",
    "    cost = tf.reduce_mean(error_one, name=\"cost\")\n",
    "#optimizer = tf.train.GradientDescentOptimizer(learning_rate=learning_rate)\n",
    "optimizer = tf.train.MomentumOptimizer(learning_rate=learning_rate, momentum=0.9)\n",
    "training_op = optimizer.minimize(cost)\n",
    "init = tf.global_variables_initializer()\n",
    "saver = tf.train.Saver()\n",
    "\n",
    "cost_summary = tf.summary.scalar('cost', cost)\n",
    "file_writer = tf.summary.FileWriter(logdir, tf.get_default_graph())"
   ]
  },
  {
   "cell_type": "code",
   "execution_count": 65,
   "metadata": {},
   "outputs": [
    {
     "name": "stdout",
     "output_type": "stream",
     "text": [
      "Epoch 0 cost =  1.3846542\n",
      "Epoch 100 cost =  0.26408345\n",
      "Epoch 200 cost =  0.2639385\n",
      "Epoch 300 cost =  0.26393732\n",
      "Epoch 400 cost =  0.26393738\n",
      "Epoch 500 cost =  0.2639373\n",
      "Epoch 600 cost =  0.2639373\n",
      "Epoch 700 cost =  0.2639373\n",
      "Epoch 800 cost =  0.2639373\n",
      "Epoch 900 cost =  0.2639373\n"
     ]
    }
   ],
   "source": [
    "with tf.Session() as sess:\n",
    "    sess.run(init)\n",
    "    \n",
    "    for epoch in range(n_epochs):\n",
    "        if epoch % 100 == 0:\n",
    "            #print (\"Epoch\", epoch, \"cost = \", cost.eval()) ## This statement causes error! Think about it why?\n",
    "            print (\"Epoch\", epoch, \"cost = \", cost.eval(feed_dict={X: scaled_moons_data_plus_bias, Y: moons_target_reshape}))\n",
    "            save_path = saver.save(sess, \"/Users/woohyunhan/Study_ML/HW9_temp.ckpt\")\n",
    "        for batch_index in range(n_batches):\n",
    "            X_batch, Y_batch = fetch_batch(epoch, batch_index, batch_size, scaled_moons_data_plus_bias, moons_target_reshape)\n",
    "            if batch_index % 10 == 0:\n",
    "                #print (\"Epoch\", epoch, \"cost = \", cost.eval(feed_dict={X: X_batch, Y: Y_batch}))\n",
    "                step = epoch * n_batches + batch_index\n",
    "                summary_str = cost_summary.eval(feed_dict={X: X_batch, Y: Y_batch})\n",
    "                file_writer.add_summary(summary_str, step)\n",
    "            sess.run(training_op, feed_dict={X:X_batch, Y:Y_batch})\n",
    "    best_theta = theta.eval()\n",
    "    save_path = saver.save(sess, \"/Users/woohyunhan/Study_ML/HW9_final.ckpt\")\n",
    "    file_writer.close()\n",
    "    \n",
    "    #print (best_theta)\n",
    "    \n"
   ]
  },
  {
   "cell_type": "markdown",
   "metadata": {},
   "source": [
    "Epoch마다 cost.eval을 저렇게 설정하면 안되는 이유 생각하기"
   ]
  },
  {
   "cell_type": "code",
   "execution_count": 66,
   "metadata": {},
   "outputs": [
    {
     "name": "stdout",
     "output_type": "stream",
     "text": [
      "Accuracy =  0.8799\n",
      "[[-0.82833076]\n",
      " [ 1.0930885 ]\n",
      " [-2.8191605 ]]\n"
     ]
    }
   ],
   "source": [
    "t = np.matmul(scaled_moons_data_plus_bias, best_theta)\n",
    "final_prob = 1.0 / (1.0 + np.exp(-t))\n",
    "final_prob = final_prob.reshape(-1)\n",
    "#final_prob = logistic_regression(best_theta, scaled_moons_data_plus_bias)\n",
    "index_true = np.where((final_prob >= 0.5) == True)\n",
    "#print (index_true)\n",
    "prediction = np.zeros(scaled_moons_data_plus_bias.shape[0])\n",
    "for i in index_true:\n",
    "    prediction[i] = 1\n",
    "error = np.average((np.abs((prediction - moons_target_reshape.reshape(-1)))))\n",
    "print (\"Accuracy = \", 1-error)\n",
    "print (best_theta)"
   ]
  },
  {
   "cell_type": "code",
   "execution_count": null,
   "metadata": {},
   "outputs": [],
   "source": []
  }
 ],
 "metadata": {
  "kernelspec": {
   "display_name": "Python 3",
   "language": "python",
   "name": "python3"
  },
  "language_info": {
   "codemirror_mode": {
    "name": "ipython",
    "version": 3
   },
   "file_extension": ".py",
   "mimetype": "text/x-python",
   "name": "python",
   "nbconvert_exporter": "python",
   "pygments_lexer": "ipython3",
   "version": "3.6.5"
  }
 },
 "nbformat": 4,
 "nbformat_minor": 2
}
